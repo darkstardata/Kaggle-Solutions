{
 "metadata": {
  "name": "",
  "signature": "sha256:482e8e4b9ae7aec6d53a27e4af6691cc4e98100e1547446f5ec0714d13a036a8"
 },
 "nbformat": 3,
 "nbformat_minor": 0,
 "worksheets": [
  {
   "cells": [
    {
     "cell_type": "code",
     "collapsed": false,
     "input": [
      "'''\n",
      "\n",
      "Kaggle Project: https://www.kaggle.com/c/data-science-london-scikit-learn/rules?returnUrl=%2Fc%2Fdata-science-london-scikit-learn%2Fsubmit\n",
      "\n",
      "This is a synthetic data set of 40 features, \n",
      "representing objects from two classes (labeled as 0 or 1). \n",
      "The training set has 1000 samples and the testing set has 9000.\n",
      "\n",
      "'''\n",
      "\n",
      "import numpy as np\n",
      "from numpy import genfromtxt, savetxt\n",
      "import matplotlib.pyplot as plt\n",
      "from sklearn import datasets, svm, cross_validation, ensemble\n",
      "from sklearn.grid_search import GridSearchCV\n",
      "\n",
      "\n",
      "\n",
      "# Load binary classification training data\n",
      "wdir = '/Users/andrew/Desktop/data'\n",
      "with open(wdir + '/train.csv', 'rb') as csvfile:\n",
      "     X_digits = genfromtxt(csvfile, delimiter=',')\n",
      "with open(wdir + '/trainLabels.csv', 'rb') as csvfile:\n",
      "     y_digits = genfromtxt(csvfile, delimiter=',')\n",
      "        \n",
      "        \n",
      "\n",
      "\n",
      "rf = ensemble.RandomForestClassifier(n_estimators=10000, criterion='gini', max_depth=None, min_samples_split=2,\n",
      "                                        min_samples_leaf=1, max_features='auto', max_leaf_nodes=None, bootstrap=True,\n",
      "                                        oob_score=False, n_jobs=1, random_state=None, verbose=0, min_density=None,\n",
      "                                        compute_importances=None)\n",
      "\n",
      "# Fit model to first half of data (uses k-folding where n_fold=3 to determine best parameters)\n",
      "rf.fit(X_digits[:900], y_digits[:900],sample_weight=None)\n",
      "\n",
      "\n",
      "# Print results\n",
      "print '\\n\\nBest Estimators\\n'\n",
      "print '-----------------'\n",
      "print '      kernel = '\n",
      "print '-----------------'\n",
      "#print ' train score = ' + str(rf.best_score_)\n",
      "print '  test score = ' + str(rf.score(X_digits[900:], y_digits[900:]))\n",
      "print '\\n done'"
     ],
     "language": "python",
     "metadata": {},
     "outputs": [
      {
       "output_type": "stream",
       "stream": "stdout",
       "text": [
        "\n",
        "\n",
        "Best Estimators\n",
        "\n",
        "-----------------\n",
        "      kernel = \n",
        "-----------------\n",
        "  test score = 0.85"
       ]
      },
      {
       "output_type": "stream",
       "stream": "stdout",
       "text": [
        "\n",
        "\n",
        " done\n"
       ]
      }
     ],
     "prompt_number": 6
    },
    {
     "cell_type": "code",
     "collapsed": false,
     "input": [
      "# Define parameter ranges for GridSearchCV optimization\n",
      "parameters = {'kernel':['rbf','linear'],'C':[10,100],'degree':np.arange(1,2,1),'gamma':np.logspace(-10, 6, 10)}\n",
      "clf = GridSearchCV(svm.SVC(), parameters, n_jobs=-1, refit=True)\n",
      "\n",
      "# Fit model to first half of data (uses k-folding where n_fold=3 to determine best parameters)\n",
      "clf.fit(X_digits, y_digits)\n",
      "\n",
      "\n",
      "# Print results\n",
      "print '\\n\\nBest Estimators\\n'\n",
      "print '-----------------'\n",
      "print '      kernel = ' + str(clf.best_estimator_.kernel)\n",
      "print '           C = ' + str(clf.best_estimator_.C)\n",
      "print '      degree = ' + str(clf.best_estimator_.degree)\n",
      "print '       gamma = ' + str(clf.best_estimator_.gamma)\n",
      "print '-----------------'\n",
      "print ' train score = ' + str(clf.best_score_)\n",
      "\n",
      "# Now predict the value of the digits in the test set\n",
      "idheader = np.arange(1,9001,1)\n",
      "predicted = clf.best_estimator_.predict(test)\n",
      "\n",
      "# Save file to csv with header and labels\n",
      "savetxt(wdir + \"/predicted.csv\", zip(idheader,predicted), header = 'Id,Solution', comments = '', fmt = '%i', delimiter=\",\")\n",
      "\n",
      "print '\\n done'\n"
     ],
     "language": "python",
     "metadata": {},
     "outputs": []
    },
    {
     "cell_type": "code",
     "collapsed": false,
     "input": [],
     "language": "python",
     "metadata": {},
     "outputs": []
    }
   ],
   "metadata": {}
  }
 ]
}