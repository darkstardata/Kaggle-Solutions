{
 "metadata": {
  "name": "",
  "signature": "sha256:83bab558d945dd639b48a833e1647dd6906362fa34f87e7a66c9883665d606c8"
 },
 "nbformat": 3,
 "nbformat_minor": 0,
 "worksheets": [
  {
   "cells": [
    {
     "cell_type": "heading",
     "level": 6,
     "metadata": {},
     "source": [
      "'''\n",
      "\n",
      "Author: darkstarz@github\n",
      "\n",
      "\n",
      "Kaggle Project: https://www.kaggle.com/c/data-science-london-scikit-learn/rules?returnUrl=%2Fc%2Fdata-science-london-scikit-learn%2Fsubmit\n",
      "\n",
      "This is a synthetic data set of 40 features, \n",
      "representing objects from two classes (labeled as 0 or 1). \n",
      "The training set has 1000 samples and the testing set has 9000.\n",
      "\n",
      "\n",
      "Basic SVC method\n",
      "Seems to only get about 91% accurate\n",
      "\n",
      "'''\n",
      "\n",
      "import numpy as np\n",
      "from numpy import genfromtxt, savetxt\n",
      "import matplotlib.pyplot as plt\n",
      "from sklearn import datasets, svm\n",
      "\n",
      "\n",
      "\n",
      "\n",
      "wdir = '/Users/andrew/Desktop'\n",
      "\n",
      "\n",
      "# Load training data\n",
      "with open(wdir + '/train.csv', 'rb') as csvfile:\n",
      "     train = genfromtxt(csvfile, delimiter=',')\n",
      "\n",
      "with open(wdir + '/trainLabels.csv', 'rb') as csvfile:\n",
      "     labels = genfromtxt(csvfile, delimiter=',')\n",
      "        \n",
      "# Load test data\n",
      "with open(wdir + '/test.csv', 'rb') as csvfile:\n",
      "     test = genfromtxt(csvfile, delimiter=',')\n",
      "        \n",
      "\n",
      "# Learn and analyze test data\n",
      "n_samples = len(train)\n",
      "data = train.reshape((n_samples, -1))\n",
      "\n",
      "\n",
      "# Create a classifier: a support vector classifier\n",
      "classifier = svm.SVC(C=1.0, kernel = 'rbf', degree=3, gamma=0.2)\n",
      "\n",
      "# Learn the digits using the training set\n",
      "classifier.fit(data, labels)\n",
      "\n",
      "# Now predict the value of the digits in the test set\n",
      "idheader = np.arange(1,9001,1)\n",
      "predicted = classifier.predict(test)\n",
      "\n",
      "# Save file to csv with header and labels\n",
      "savetxt(wdir + \"/predicted.csv\", zip(idheader,predicted), header = 'Id,Solution', comments = '', fmt = '%i', delimiter=\",\")\n",
      "\n",
      "print 'Done!'\n"
     ]
    },
    {
     "cell_type": "code",
     "collapsed": false,
     "input": [
      "\n"
     ],
     "language": "python",
     "metadata": {},
     "outputs": []
    }
   ],
   "metadata": {}
  }
 ]
}