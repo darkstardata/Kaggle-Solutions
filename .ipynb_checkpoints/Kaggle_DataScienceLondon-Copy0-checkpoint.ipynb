{
 "metadata": {
  "name": "",
  "signature": "sha256:120a5f7160902e5ccaf254dfada731c88f4b76a996022779fa76ef3f7b4c6b2b"
 },
 "nbformat": 3,
 "nbformat_minor": 0,
 "worksheets": [
  {
   "cells": [
    {
     "cell_type": "code",
     "collapsed": false,
     "input": [
      "'''\n",
      "\n",
      "Kaggle Project: https://www.kaggle.com/c/data-science-london-scikit-learn/rules?returnUrl=%2Fc%2Fdata-science-london-scikit-learn%2Fsubmit\n",
      "\n",
      "This is a synthetic data set of 40 features, \n",
      "representing objects from two classes (labeled as 0 or 1). \n",
      "The training set has 1000 samples and the testing set has 9000.\n",
      "\n",
      "'''\n",
      "\n",
      "import numpy as np\n",
      "from numpy import genfromtxt, savetxt\n",
      "import matplotlib.pyplot as plt\n",
      "from sklearn import datasets, svm, cross_validation\n",
      "from sklearn.grid_search import GridSearchCV\n",
      "\n",
      "\n",
      "\n",
      "# Load binary classification training data\n",
      "wdir = '/Users/andrew/Desktop'\n",
      "with open(wdir + '/train.csv', 'rb') as csvfile:\n",
      "     X_digits = genfromtxt(csvfile, delimiter=',')\n",
      "with open(wdir + '/trainLabels.csv', 'rb') as csvfile:\n",
      "     y_digits = genfromtxt(csvfile, delimiter=',')\n",
      "# Load test data\n",
      "with open(wdir + '/test.csv', 'rb') as csvfile:\n",
      "     test = genfromtxt(csvfile, delimiter=',')\n",
      "        \n",
      "        \n",
      "parameters = {'kernel':['rbf','linear'],'C':[10,100],'degree':np.arange(1,2,1),'gamma':np.logspace(-10, 6, 10)}\n",
      "clf = GridSearchCV(svm.SVC(), parameters, n_jobs=-1)\n",
      "\n",
      "# Fit model to first half of data (uses k-folding where n_fold=3 to determine best parameters)\n",
      "clf.fit(X_digits[:1000], y_digits[:1000])\n",
      "\n",
      "\n",
      "# Print results\n",
      "print '\\n\\nBest Estimators\\n'\n",
      "print '-----------------'\n",
      "print '      kernel = ' + str(clf.best_estimator_.kernel)\n",
      "print '           C = ' + str(clf.best_estimator_.C)\n",
      "print '      degree = ' + str(clf.best_estimator_.degree)\n",
      "print '       gamma = ' + str(clf.best_estimator_.gamma)\n",
      "print '-----------------'\n",
      "print ' train score = ' + str(clf.best_score_)\n",
      "print '  test score = ' + str(clf.predict(X_digits[500:]))\n",
      "print '\\n done'"
     ],
     "language": "python",
     "metadata": {},
     "outputs": [
      {
       "output_type": "stream",
       "stream": "stdout",
       "text": [
        "\n",
        "\n",
        "Best Estimators\n",
        "\n",
        "-----------------\n",
        "kernel = rbf\n",
        "     C = 10\n",
        "degree = 1\n",
        " gamma = 0.00129154966501\n",
        "-----------------\n",
        "\n",
        " done\n"
       ]
      }
     ],
     "prompt_number": 3
    },
    {
     "cell_type": "code",
     "collapsed": false,
     "input": [
      "# Define parameter ranges for GridSearchCV optimization\n",
      "parameters = {'kernel':['rbf','linear'],'C':[10,100],'degree':np.arange(1,2,1),'gamma':np.logspace(-10, 6, 10)}\n",
      "clf = GridSearchCV(svm.SVC(), parameters, n_jobs=-1)\n",
      "\n",
      "# Fit model to first half of data (uses k-folding where n_fold=3 to determine best parameters)\n",
      "clf.fit(X_digits[:500], y_digits[:500])\n",
      "\n",
      "\n",
      "# Print results\n",
      "print '\\n\\nBest Estimators\\n'\n",
      "print '-----------------'\n",
      "print '      kernel = ' + str(clf.best_estimator_.kernel)\n",
      "print '           C = ' + str(clf.best_estimator_.C)\n",
      "print '      degree = ' + str(clf.best_estimator_.degree)\n",
      "print '       gamma = ' + str(clf.best_estimator_.gamma)\n",
      "print '-----------------'\n",
      "print ' train score = ' + str(clf.best_score_)\n",
      "print '  test score = ' + str(clf.score(X_digits[500:], y_digits[500:]))\n",
      "print '\\n done'"
     ],
     "language": "python",
     "metadata": {},
     "outputs": [
      {
       "output_type": "stream",
       "stream": "stdout",
       "text": [
        "\n",
        "\n",
        "Best Estimators\n",
        "\n",
        "-----------------\n",
        "      kernel = rbf\n",
        "           C = 10\n",
        "      degree = 1\n",
        "       gamma = 0.00129154966501\n",
        "-----------------\n",
        " train score = 0.874\n",
        "  test score = 0.858\n",
        "\n",
        " done\n"
       ]
      }
     ],
     "prompt_number": 12
    },
    {
     "cell_type": "code",
     "collapsed": false,
     "input": [],
     "language": "python",
     "metadata": {},
     "outputs": []
    }
   ],
   "metadata": {}
  }
 ]
}