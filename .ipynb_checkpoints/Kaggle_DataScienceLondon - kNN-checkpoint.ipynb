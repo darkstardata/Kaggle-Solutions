{
 "metadata": {
  "name": "",
  "signature": "sha256:764b384e042352fdd4504c74558d48a5257ad70b7b60b5f37f2d220ed67c2750"
 },
 "nbformat": 3,
 "nbformat_minor": 0,
 "worksheets": [
  {
   "cells": [
    {
     "cell_type": "code",
     "collapsed": false,
     "input": [
      "'''\n",
      "\n",
      "Kaggle Project: https://www.kaggle.com/c/data-science-london-scikit-learn/rules?returnUrl=%2Fc%2Fdata-science-london-scikit-learn%2Fsubmit\n",
      "\n",
      "This is a synthetic data set of 40 features, \n",
      "representing objects from two classes (labeled as 0 or 1). \n",
      "The training set has 1000 samples and the testing set has 9000.\n",
      "\n",
      "'''\n",
      "from numpy import genfromtxt, savetxt\n",
      "import numpy as np\n",
      "import ipybell\n",
      "\n",
      "# Linear Support Vector Classifier\n",
      "from sklearn.preprocessing import scale\n",
      "from sklearn import datasets\n",
      "from sklearn import metrics\n",
      "from sklearn.neighbors import KNeighborsClassifier\n",
      "from sklearn.grid_search import GridSearchCV\n",
      "\n",
      "# Load binary classification training data\n",
      "wdir = '/Users/andrew/Documents/data/DataSciLondon'\n",
      "with open(wdir + '/train.csv', 'rb') as csvfile:\n",
      "     data = genfromtxt(csvfile, delimiter=',')\n",
      "with open(wdir + '/trainLabels.csv', 'rb') as csvfile:\n",
      "     target = genfromtxt(csvfile, delimiter=',')\n",
      "with open(wdir + '/test.csv', 'rb') as csvfile:\n",
      "     test = genfromtxt(csvfile, delimiter=',')\n",
      "\n",
      "# index used to split training data\n",
      "data = scale(data)\n",
      "\n",
      "# fit a kNeighbors model to the data\n",
      "#model = KNeighborsClassifier(n_neighbors=50, weights='uniform',\n",
      "#                             algorithm='auto', leaf_size=30, p=2,\n",
      "#                             metric='minkowski', metric_params=None)\n",
      "\n",
      "parameters = [{\n",
      "#    'algorithm':['auto', 'ball_tree', 'kd_tree', 'brute'],\n",
      "#    'weights': ['uniform', 'distance'], \n",
      "    'leaf_size': np.arange(29,31,1), \n",
      "    'n_neighbors': np.arange(1,101,1)\n",
      "    }]\n",
      "\n",
      "model = GridSearchCV(KNeighborsClassifier(), parameters, n_jobs=2)\n",
      "\n",
      "\n",
      "# fit training set and make prediction\n",
      "expected = target\n",
      "predicted = model.fit(data, target).predict(data)\n",
      "\n",
      "\n",
      "# print results\n",
      "print '\\n\\nBest Parameters\\n'\n",
      "print '------------------------'\n",
      "print ' n_neighbors = ' + str(model.best_estimator_.n_neighbors)\n",
      "print '   leaf_size = ' + str(model.best_estimator_.leaf_size)\n",
      "print '   algorithm = ' + str(model.best_estimator_.algorithm)\n",
      "print '     weights = ' + str(model.best_estimator_.weights)\n",
      "print '------------------------\\n'\n",
      "print 'Train score = ' + str(model.best_score_)\n",
      "\n",
      "\n",
      "# write predicted classifications to file\n",
      "idheader = np.arange(1,np.size(test,axis=0)+1,1)\n",
      "output = model.predict(test)\n",
      "%bell -n osx savetxt(wdir + \"/predicted.csv\", zip(idheader,predicted), header = 'Id,Solution', comments = '', fmt = '%i', delimiter=\",\")\n"
     ],
     "language": "python",
     "metadata": {},
     "outputs": [
      {
       "output_type": "stream",
       "stream": "stdout",
       "text": [
        "\n",
        "\n",
        "Best Parameters\n",
        "\n",
        "------------------------\n",
        " n_neighbors = 14\n",
        "   leaf_size = 29\n",
        "   algorithm = auto\n",
        "     weights = distance\n",
        "------------------------\n",
        "\n",
        "Train score = 0.85\n"
       ]
      }
     ],
     "prompt_number": 3
    },
    {
     "cell_type": "code",
     "collapsed": false,
     "input": [],
     "language": "python",
     "metadata": {},
     "outputs": []
    }
   ],
   "metadata": {}
  }
 ]
}