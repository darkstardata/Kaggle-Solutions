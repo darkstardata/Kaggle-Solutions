{
 "metadata": {
  "name": "",
  "signature": "sha256:2f12cf9a6cab52c04366da26efc27e3dd0bd54d34a4470ad460f8e8534e88635"
 },
 "nbformat": 3,
 "nbformat_minor": 0,
 "worksheets": [
  {
   "cells": [
    {
     "cell_type": "code",
     "collapsed": false,
     "input": [
      "\n",
      "\n",
      "'''\n",
      "\n",
      "Kaggle Project: https://www.kaggle.com/c/data-science-london-scikit-learn/rules?returnUrl=%2Fc%2Fdata-science-london-scikit-learn%2Fsubmit\n",
      "\n",
      "This is a synthetic data set of 40 features, \n",
      "representing objects from two classes (labeled as 0 or 1). \n",
      "The training set has 1000 samples and the testing set has 9000.\n",
      "\n",
      "'''\n",
      "\n",
      "\n",
      "import csv\n",
      "import numpy as np\n",
      "from numpy import genfromtxt\n",
      "from numpy import savetxt\n",
      "# Standard scientific Python imports\n",
      "import matplotlib.pyplot as plt\n",
      "\n",
      "# Import datasets, classifiers and performance metrics\n",
      "from sklearn import datasets, svm, grid_search, metrics\n",
      "\n",
      "wdir = '/Users/andrew/Desktop'\n",
      "\n",
      "# Load training data\n",
      "with open(wdir + '/train.csv', 'rb') as csvfile:\n",
      "     train = genfromtxt(csvfile, delimiter=',')\n",
      "\n",
      "with open(wdir + '/trainLabels.csv', 'rb') as csvfile:\n",
      "     labels = genfromtxt(csvfile, delimiter=',')\n",
      "        \n",
      "# Load test data\n",
      "with open(wdir + '/test.csv', 'rb') as csvfile:\n",
      "     test = genfromtxt(csvfile, delimiter=',')\n",
      "        \n",
      "\n",
      "        \n",
      "        \n",
      "# Learn and analyze test data\n",
      "n_samples = len(train)\n",
      "data = train.reshape((n_samples, -1))\n",
      "\n",
      "# Create a classifier: a support vector classifier\n",
      "classifier = svm.SVC(C=1.0, kernel = 'rbf', degree=3, gamma=0.2)\n",
      "#classifier = svm.SVC(C=1.0, cache_size=200, class_weight=None, coef0=0.0, degree=3, gamma=0.0,\n",
      "  #kernel='rbf', max_iter=-1, probability=False, random_state=None,\n",
      "  #shrinking=True, tol=0.001, verbose=False)\n",
      "\n",
      "#parameters = {'kernel':('linear', 'rbf'), 'C':[1, 10], 'degree':[1,5], 'gamma':[0.0001,1.0]}\n",
      "#clf = grid_search.GridSearchCV(classifier, parameters)\n",
      "#clf.fit(data, labels)\n",
      "\n",
      "\n",
      "\n",
      "# We learn the digits on the first half of the digits\n",
      "classifier.fit(data, labels)\n",
      "\n",
      "# Now predict the value of the digit on the second half:\n",
      "idheader = np.arange(1,9001,1)\n",
      "predicted = classifier.predict(test)\n",
      "\n",
      "# Save file to csv with header and labels\n",
      "savetxt(wdir + \"/predicted.csv\", zip(idheader,predicted), header = 'Id,Solution', comments = '', fmt = '%i', delimiter=\",\")\n",
      "\n",
      "print 'Done!'\n"
     ],
     "language": "python",
     "metadata": {},
     "outputs": [
      {
       "output_type": "stream",
       "stream": "stdout",
       "text": [
        "Done!\n"
       ]
      }
     ],
     "prompt_number": 64
    },
    {
     "cell_type": "code",
     "collapsed": false,
     "input": [
      "clf.fit(data,labels)"
     ],
     "language": "python",
     "metadata": {},
     "outputs": [
      {
       "metadata": {},
       "output_type": "pyout",
       "prompt_number": 57,
       "text": [
        "GridSearchCV(cv=None,\n",
        "       estimator=SVC(C=1.0, cache_size=200, class_weight=None, coef0=0.0, degree=3, gamma=0.0,\n",
        "  kernel='rbf', max_iter=-1, probability=False, random_state=None,\n",
        "  shrinking=True, tol=0.001, verbose=False),\n",
        "       fit_params={}, iid=True, loss_func=None, n_jobs=1,\n",
        "       param_grid={'kernel': ('linear', 'rbf'), 'C': [1, 10], 'gamma': [0.0001, 1.0], 'degree': [1, 5]},\n",
        "       pre_dispatch='2*n_jobs', refit=True, score_func=None, scoring=None,\n",
        "       verbose=0)"
       ]
      }
     ],
     "prompt_number": 57
    },
    {
     "cell_type": "code",
     "collapsed": false,
     "input": [],
     "language": "python",
     "metadata": {},
     "outputs": []
    }
   ],
   "metadata": {}
  }
 ]
}