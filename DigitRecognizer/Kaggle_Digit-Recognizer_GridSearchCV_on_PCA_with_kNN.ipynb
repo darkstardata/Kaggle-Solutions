{
 "metadata": {
  "name": "",
  "signature": "sha256:2e76bceb8eec406e7c5de2d7f2187a8aea0e434f02585b701f4d8a37bf66f104"
 },
 "nbformat": 3,
 "nbformat_minor": 0,
 "worksheets": [
  {
   "cells": [
    {
     "cell_type": "code",
     "collapsed": false,
     "input": [
      "'''\n",
      "Kaggle project: https://www.kaggle.com/c/digit-recognizer\n",
      "\n",
      "The goal in this competition is to take an image of a handwritten single digit,\n",
      "and determine what that digit is.  As the competition progresses, we will release \n",
      "tutorials which explain different machine learning algorithms and help you to get started.\n",
      "\n",
      "\n",
      "Solution accuracy for test set is ?\n",
      "\n",
      "n_components 40 was best of [20, 40, 64, 100]\n",
      "             30 was best out of [20, 30, 40]\n",
      "             35 was best out of [20, 25, 30, 35, 40]\n",
      "             33 was best out of [30, 33, 35, 37, 40]\n",
      "             33 was best out of [31, 32, 33, 34]\n",
      "'''\n",
      "import matplotlib.pyplot as plt\n",
      "import numpy as np\n",
      "import pandas as pd\n",
      "import ipybell\n",
      "\n",
      "from sklearn import decomposition, neighbors, pipeline, grid_search\n",
      "\n",
      "\n",
      "def Predict(train, labels, test):\n",
      "    pca = decomposition.PCA()\n",
      "    knn = neighbors.KNeighborsClassifier(algorithm=\"kd_tree\")\n",
      "    pipe = pipeline.Pipeline(steps=[('pca', pca), ('knn', knn)])\n",
      "    print 'Analyzing PCA parameter n_components'\n",
      "    pca.fit(train)\n",
      "    plt.figure(1, figsize=(4, 3))\n",
      "    plt.clf()\n",
      "    plt.axes([.2, .2, .7, .7])\n",
      "    plt.plot(pca.explained_variance_, linewidth=2)\n",
      "    plt.axis('tight')\n",
      "    plt.xlabel('n_components')\n",
      "    plt.ylabel('explained_variance_')\n",
      "    print 'Finding optimal parameters using GridSearchCV'\n",
      "    n_components = [33, 80]\n",
      "    n_neighbors = [1,5,10,15]\n",
      "    estimator = grid_search.GridSearchCV(pipe, dict(pca__n_components=n_components,knn__n_neighbors=n_neighbors), n_jobs=2)\n",
      "    estimator.fit(train, labels)\n",
      "    print 'Plot best fit for n_components'\n",
      "    plt.axvline(estimator.best_estimator_.named_steps['pca'].n_components,\n",
      "                linestyle=':', label='n_components chosen')\n",
      "    plt.legend(prop=dict(size=12))\n",
      "    plt.show()\n",
      "    PCA_COMPONENTS = estimator.best_estimator_.named_steps['pca'].n_components\n",
      "    KNN_NEIGHBORS = estimator.best_estimator_.named_steps['knn'].n_neighbors\n",
      "    print \"Converting training set to matrix\"\n",
      "    X_train = np.mat(train)\n",
      "    print \"Fitting PCA. Components: %d\" % PCA_COMPONENTS\n",
      "    pca = decomposition.PCA(n_components=PCA_COMPONENTS).fit(X_train)\n",
      "    print \"Reducing training to %d components\" % PCA_COMPONENTS\n",
      "    X_train_reduced = pca.transform(X_train)\n",
      "    print \"Fitting kNN with k=%d, kd_tree\" % KNN_NEIGHBORS\n",
      "    knn = neighbors.KNeighborsClassifier(n_neighbors=KNN_NEIGHBORS, algorithm=\"kd_tree\")\n",
      "    print knn.fit(X_train_reduced, labels)\n",
      "    print \"Reducing test to %d components\" % PCA_COMPONENTS\n",
      "    X_test_reduced = pca.transform(test)\n",
      "    print \"Predicting numbers\"\n",
      "    predictions = knn.predict(X_test_reduced)\n",
      "    print \"Writing to file\"\n",
      "    idheader = np.arange(1,len(predictions)+1,1)\n",
      "    np.savetxt(wdir + \"/predicted2.csv\", zip(idheader,predictions), header = 'ImageId,Label', \n",
      "               comments = '', fmt = '%i', delimiter=\",\")\n",
      "    return predictions\n",
      "\n",
      "\n",
      "if __name__ == '__main__':\n",
      "    wdir = '/Users/andrew/Documents/data/MNIST'    \n",
      "    X_test = np.int64(pd.read_csv(wdir + '/test.csv', header=None).as_matrix()[1:,:])\n",
      "    y = pd.read_csv(wdir + '/train.csv', header=False).as_matrix()[:,0]\n",
      "    X = pd.read_csv(wdir + '/train.csv', header=False).as_matrix()[:,1:]\n",
      "\n",
      "    %bell -n osx print Predict(X, y, X_test)"
     ],
     "language": "python",
     "metadata": {},
     "outputs": [
      {
       "output_type": "stream",
       "stream": "stdout",
       "text": [
        "Analyzing PCA parameter n_components\n",
        "Finding optimal parameters using GridSearchCV"
       ]
      },
      {
       "output_type": "stream",
       "stream": "stdout",
       "text": [
        "\n"
       ]
      },
      {
       "output_type": "stream",
       "stream": "stdout",
       "text": [
        "Plot best fit for n_components\n"
       ]
      },
      {
       "metadata": {},
       "output_type": "display_data",
       "png": "[encoded data removed]",
       "text": [
        "<matplotlib.figure.Figure at 0x111ece2d0>"
       ]
      },
      {
       "output_type": "stream",
       "stream": "stdout",
       "text": [
        "Converting training set to matrix\n",
        "Fitting PCA. Components: 33\n",
        "Reducing training to 33 components"
       ]
      },
      {
       "output_type": "stream",
       "stream": "stdout",
       "text": [
        "\n",
        "Fitting kNN with k=10, kd_tree"
       ]
      },
      {
       "output_type": "stream",
       "stream": "stdout",
       "text": [
        "\n",
        "KNeighborsClassifier(algorithm='kd_tree', leaf_size=30, metric='minkowski',\n",
        "           metric_params=None, n_neighbors=10, p=2, weights='uniform')"
       ]
      },
      {
       "output_type": "stream",
       "stream": "stdout",
       "text": [
        "\n",
        "Reducing test to 33 components\n",
        "Predicting numbers"
       ]
      },
      {
       "output_type": "stream",
       "stream": "stdout",
       "text": [
        "\n",
        "Writing to file"
       ]
      },
      {
       "output_type": "stream",
       "stream": "stdout",
       "text": [
        "\n",
        "[2 0 9 ..., 3 9 2]"
       ]
      },
      {
       "output_type": "stream",
       "stream": "stdout",
       "text": [
        "\n"
       ]
      }
     ],
     "prompt_number": 11
    },
    {
     "cell_type": "code",
     "collapsed": false,
     "input": [],
     "language": "python",
     "metadata": {},
     "outputs": []
    }
   ],
   "metadata": {}
  }
 ]
}