{
 "metadata": {
  "name": "",
  "signature": "sha256:305b606265fbf13677888415ab9750e3f95d1c20428b51f22c814011ec9f9ba8"
 },
 "nbformat": 3,
 "nbformat_minor": 0,
 "worksheets": [
  {
   "cells": [
    {
     "cell_type": "code",
     "collapsed": false,
     "input": [],
     "language": "python",
     "metadata": {},
     "outputs": []
    },
    {
     "cell_type": "code",
     "collapsed": false,
     "input": [
      "import graphlab as gl\n",
      "data = gl.SFrame('http://s3.amazonaws.com/GraphLab-Datasets/mnist/sframe/train')\n",
      "test_data = gl.SFrame('http://s3.amazonaws.com/GraphLab-Datasets/mnist/sframe/test')"
     ],
     "language": "python",
     "metadata": {},
     "outputs": [],
     "prompt_number": 21
    },
    {
     "cell_type": "code",
     "collapsed": false,
     "input": [
      "# Split training data into train and validation sets\n",
      "training_data, validation_data = data.random_split(0.8)\n",
      "\n",
      "# Reshape data into images\n",
      "training_data['image'] = gl.image_analysis.resize(training_data['image'], 28, 28, 1)\n",
      "validation_data['image'] = gl.image_analysis.resize(validation_data['image'], 28, 28, 1)\n",
      "test_data['image'] = gl.image_analysis.resize(test_data['image'], 28, 28, 1)\n",
      "print 'Finished'"
     ],
     "language": "python",
     "metadata": {},
     "outputs": [
      {
       "output_type": "stream",
       "stream": "stdout",
       "text": [
        "Finished\n"
       ]
      }
     ],
     "prompt_number": 9
    },
    {
     "cell_type": "code",
     "collapsed": false,
     "input": [
      "## Use the builtin NeuralNet architecture for MNIST ( a one layer convolutional neuralnet work)\n",
      "net = gl.deeplearning.create(training_data, target='label')\n",
      "net.layers\n",
      "net.params\n",
      "net.layers[4].num_hidden_units = 10\n",
      "m = gl.neuralnet_classifier.create(training_data, target='label',\n",
      "                                         network = net,\n",
      "                                         validation_set=validation_data,\n",
      "                                         metric=['accuracy', 'recall@2'],\n",
      "                                         max_iterations=3)\n",
      "print 'Finished'"
     ],
     "language": "python",
     "metadata": {},
     "outputs": [
      {
       "html": [
        "<pre>PROGRESS: Computing mean image...</pre>"
       ],
       "metadata": {},
       "output_type": "display_data",
       "text": [
        "PROGRESS: Computing mean image..."
       ]
      },
      {
       "html": [
        "<pre>PROGRESS: Done computing mean image.</pre>"
       ],
       "metadata": {},
       "output_type": "display_data",
       "text": [
        "PROGRESS: Done computing mean image."
       ]
      },
      {
       "html": [
        "<pre>PROGRESS: Creating neuralnet using device = cpu</pre>"
       ],
       "metadata": {},
       "output_type": "display_data",
       "text": [
        "PROGRESS: Creating neuralnet using device = cpu"
       ]
      },
      {
       "html": [
        "<pre>PROGRESS: +-----------+----------+--------------+-------------------+---------------------+-------------------+---------------------+-----------------+</pre>"
       ],
       "metadata": {},
       "output_type": "display_data",
       "text": [
        "PROGRESS: +-----------+----------+--------------+-------------------+---------------------+-------------------+---------------------+-----------------+"
       ]
      },
      {
       "html": [
        "<pre>PROGRESS: | Iteration | Examples | Elapsed Time | Training-accuracy | Validation-accuracy | Training-recall@2 | Validation-recall@2 | Examples/second |</pre>"
       ],
       "metadata": {},
       "output_type": "display_data",
       "text": [
        "PROGRESS: | Iteration | Examples | Elapsed Time | Training-accuracy | Validation-accuracy | Training-recall@2 | Validation-recall@2 | Examples/second |"
       ]
      },
      {
       "html": [
        "<pre>PROGRESS: +-----------+----------+--------------+-------------------+---------------------+-------------------+---------------------+-----------------+</pre>"
       ],
       "metadata": {},
       "output_type": "display_data",
       "text": [
        "PROGRESS: +-----------+----------+--------------+-------------------+---------------------+-------------------+---------------------+-----------------+"
       ]
      },
      {
       "html": [
        "<pre>PROGRESS: | 1         | 43200    | 10.018155    | 0.775370          |                     | 0.878843          |                     | 4312.181152     |</pre>"
       ],
       "metadata": {},
       "output_type": "display_data",
       "text": [
        "PROGRESS: | 1         | 43200    | 10.018155    | 0.775370          |                     | 0.878843          |                     | 4312.181152     |"
       ]
      },
      {
       "html": [
        "<pre>PROGRESS: | 1         | 47900    | 12.455373    | 0.787954          | 0.941393            | 0.887286          | 0.980246            | 1928.410034     |</pre>"
       ],
       "metadata": {},
       "output_type": "display_data",
       "text": [
        "PROGRESS: | 1         | 47900    | 12.455373    | 0.787954          | 0.941393            | 0.887286          | 0.980246            | 1928.410034     |"
       ]
      },
      {
       "html": [
        "<pre>PROGRESS: | 2         | 43000    | 22.481288    | 0.915605          |                     | 0.971442          |                     | 4289.027832     |</pre>"
       ],
       "metadata": {},
       "output_type": "display_data",
       "text": [
        "PROGRESS: | 2         | 43000    | 22.481288    | 0.915605          |                     | 0.971442          |                     | 4289.027832     |"
       ]
      },
      {
       "html": [
        "<pre>PROGRESS: | 2         | 47900    | 24.923589    | 0.917516          | 0.957934            | 0.972025          | 0.986033            | 2006.298096     |</pre>"
       ],
       "metadata": {},
       "output_type": "display_data",
       "text": [
        "PROGRESS: | 2         | 47900    | 24.923589    | 0.917516          | 0.957934            | 0.972025          | 0.986033            | 2006.298096     |"
       ]
      },
      {
       "html": [
        "<pre>PROGRESS: | 3         | 42300    | 34.928256    | 0.933215          |                     | 0.978203          |                     | 4228.122070     |</pre>"
       ],
       "metadata": {},
       "output_type": "display_data",
       "text": [
        "PROGRESS: | 3         | 42300    | 34.928256    | 0.933215          |                     | 0.978203          |                     | 4228.122070     |"
       ]
      },
      {
       "html": [
        "<pre>PROGRESS: | 3         | 47900    | 37.695939    | 0.934426          | 0.959422            | 0.978580          | 0.987686            | 2023.348022     |</pre>"
       ],
       "metadata": {},
       "output_type": "display_data",
       "text": [
        "PROGRESS: | 3         | 47900    | 37.695939    | 0.934426          | 0.959422            | 0.978580          | 0.987686            | 2023.348022     |"
       ]
      },
      {
       "html": [
        "<pre>PROGRESS: +-----------+----------+--------------+-------------------+---------------------+-------------------+---------------------+-----------------+</pre>"
       ],
       "metadata": {},
       "output_type": "display_data",
       "text": [
        "PROGRESS: +-----------+----------+--------------+-------------------+---------------------+-------------------+---------------------+-----------------+"
       ]
      },
      {
       "output_type": "stream",
       "stream": "stdout",
       "text": [
        "Using network:\n",
        "\n",
        "### network layers ###\n",
        "layer[0]: ConvolutionLayer\n",
        "  init_random = gaussian\n",
        "  padding = 0\n",
        "  stride = 2\n",
        "  num_channels = 10\n",
        "  num_groups = 1\n",
        "  kernel_size = 3\n",
        "layer[1]: MaxPoolingLayer\n",
        "  padding = 0\n",
        "  stride = 2\n",
        "  kernel_size = 3\n",
        "layer[2]: FlattenLayer\n",
        "layer[3]: FullConnectionLayer\n",
        "  init_sigma = 0.01\n",
        "  init_random = gaussian\n",
        "  init_bias = 0\n",
        "  num_hidden_units = 100\n",
        "layer[4]: RectifiedLinearLayer\n",
        "  num_hidden_units = 10\n",
        "layer[5]: DropoutLayer\n",
        "  threshold = 0.5\n",
        "layer[6]: FullConnectionLayer\n",
        "  init_sigma = 0.01\n",
        "  init_random = gaussian\n",
        "  init_bias = 0\n",
        "  num_hidden_units = 10\n",
        "layer[7]: SoftmaxLayer\n",
        "### end network layers ###\n",
        "\n",
        "### network parameters ###\n",
        "learning_rate = 0.001\n",
        "metric = accuracy,recall@2\n",
        "momentum = 0.9\n",
        "### end network parameters ###\n",
        "\n"
       ]
      }
     ],
     "prompt_number": 12
    },
    {
     "cell_type": "code",
     "collapsed": false,
     "input": [
      "# Predict most likely\n",
      "pred = m.classify(test_data)\n",
      "pred"
     ],
     "language": "python",
     "metadata": {},
     "outputs": [
      {
       "html": [
        "<div style=\"max-height:1000px;max-width:1500px;overflow:auto;\"><table frame=\"box\" rules=\"cols\">\n",
        "    <tr>\n",
        "        <th style=\"padding-left: 1em; padding-right: 1em; text-align: center\">row_id</th>\n",
        "        <th style=\"padding-left: 1em; padding-right: 1em; text-align: center\">class</th>\n",
        "        <th style=\"padding-left: 1em; padding-right: 1em; text-align: center\">score</th>\n",
        "    </tr>\n",
        "    <tr>\n",
        "        <td style=\"padding-left: 1em; padding-right: 1em; text-align: center; vertical-align: top\">0</td>\n",
        "        <td style=\"padding-left: 1em; padding-right: 1em; text-align: center; vertical-align: top\">0</td>\n",
        "        <td style=\"padding-left: 1em; padding-right: 1em; text-align: center; vertical-align: top\">0.99964928627</td>\n",
        "    </tr>\n",
        "    <tr>\n",
        "        <td style=\"padding-left: 1em; padding-right: 1em; text-align: center; vertical-align: top\">1</td>\n",
        "        <td style=\"padding-left: 1em; padding-right: 1em; text-align: center; vertical-align: top\">0</td>\n",
        "        <td style=\"padding-left: 1em; padding-right: 1em; text-align: center; vertical-align: top\">0.999995470047</td>\n",
        "    </tr>\n",
        "    <tr>\n",
        "        <td style=\"padding-left: 1em; padding-right: 1em; text-align: center; vertical-align: top\">2</td>\n",
        "        <td style=\"padding-left: 1em; padding-right: 1em; text-align: center; vertical-align: top\">0</td>\n",
        "        <td style=\"padding-left: 1em; padding-right: 1em; text-align: center; vertical-align: top\">0.999910354614</td>\n",
        "    </tr>\n",
        "    <tr>\n",
        "        <td style=\"padding-left: 1em; padding-right: 1em; text-align: center; vertical-align: top\">3</td>\n",
        "        <td style=\"padding-left: 1em; padding-right: 1em; text-align: center; vertical-align: top\">0</td>\n",
        "        <td style=\"padding-left: 1em; padding-right: 1em; text-align: center; vertical-align: top\">0.999957442284</td>\n",
        "    </tr>\n",
        "    <tr>\n",
        "        <td style=\"padding-left: 1em; padding-right: 1em; text-align: center; vertical-align: top\">4</td>\n",
        "        <td style=\"padding-left: 1em; padding-right: 1em; text-align: center; vertical-align: top\">0</td>\n",
        "        <td style=\"padding-left: 1em; padding-right: 1em; text-align: center; vertical-align: top\">0.998709440231</td>\n",
        "    </tr>\n",
        "    <tr>\n",
        "        <td style=\"padding-left: 1em; padding-right: 1em; text-align: center; vertical-align: top\">5</td>\n",
        "        <td style=\"padding-left: 1em; padding-right: 1em; text-align: center; vertical-align: top\">0</td>\n",
        "        <td style=\"padding-left: 1em; padding-right: 1em; text-align: center; vertical-align: top\">0.995601773262</td>\n",
        "    </tr>\n",
        "    <tr>\n",
        "        <td style=\"padding-left: 1em; padding-right: 1em; text-align: center; vertical-align: top\">6</td>\n",
        "        <td style=\"padding-left: 1em; padding-right: 1em; text-align: center; vertical-align: top\">0</td>\n",
        "        <td style=\"padding-left: 1em; padding-right: 1em; text-align: center; vertical-align: top\">0.996012330055</td>\n",
        "    </tr>\n",
        "    <tr>\n",
        "        <td style=\"padding-left: 1em; padding-right: 1em; text-align: center; vertical-align: top\">7</td>\n",
        "        <td style=\"padding-left: 1em; padding-right: 1em; text-align: center; vertical-align: top\">0</td>\n",
        "        <td style=\"padding-left: 1em; padding-right: 1em; text-align: center; vertical-align: top\">0.99983394146</td>\n",
        "    </tr>\n",
        "    <tr>\n",
        "        <td style=\"padding-left: 1em; padding-right: 1em; text-align: center; vertical-align: top\">8</td>\n",
        "        <td style=\"padding-left: 1em; padding-right: 1em; text-align: center; vertical-align: top\">0</td>\n",
        "        <td style=\"padding-left: 1em; padding-right: 1em; text-align: center; vertical-align: top\">0.995470523834</td>\n",
        "    </tr>\n",
        "    <tr>\n",
        "        <td style=\"padding-left: 1em; padding-right: 1em; text-align: center; vertical-align: top\">9</td>\n",
        "        <td style=\"padding-left: 1em; padding-right: 1em; text-align: center; vertical-align: top\">0</td>\n",
        "        <td style=\"padding-left: 1em; padding-right: 1em; text-align: center; vertical-align: top\">0.999982237816</td>\n",
        "    </tr>\n",
        "    <tr>\n",
        "        <td style=\"padding-left: 1em; padding-right: 1em; text-align: center; vertical-align: top\">...</td>\n",
        "        <td style=\"padding-left: 1em; padding-right: 1em; text-align: center; vertical-align: top\">...</td>\n",
        "        <td style=\"padding-left: 1em; padding-right: 1em; text-align: center; vertical-align: top\">...</td>\n",
        "    </tr>\n",
        "</table>\n",
        "[10000 rows x 3 columns]<br/>Note: Only the head of the SFrame is printed.<br/>You can use print_rows(num_rows=m, num_columns=n) to print more rows and columns.\n",
        "</div>"
       ],
       "metadata": {},
       "output_type": "pyout",
       "prompt_number": 13,
       "text": [
        "Columns:\n",
        "\trow_id\tint\n",
        "\tclass\tint\n",
        "\tscore\tfloat\n",
        "\n",
        "Rows: 10000\n",
        "\n",
        "Data:\n",
        "+--------+-------+----------------+\n",
        "| row_id | class |     score      |\n",
        "+--------+-------+----------------+\n",
        "|   0    |   0   | 0.99964928627  |\n",
        "|   1    |   0   | 0.999995470047 |\n",
        "|   2    |   0   | 0.999910354614 |\n",
        "|   3    |   0   | 0.999957442284 |\n",
        "|   4    |   0   | 0.998709440231 |\n",
        "|   5    |   0   | 0.995601773262 |\n",
        "|   6    |   0   | 0.996012330055 |\n",
        "|   7    |   0   | 0.99983394146  |\n",
        "|   8    |   0   | 0.995470523834 |\n",
        "|   9    |   0   | 0.999982237816 |\n",
        "|  ...   |  ...  |      ...       |\n",
        "+--------+-------+----------------+\n",
        "[10000 rows x 3 columns]\n",
        "Note: Only the head of the SFrame is printed.\n",
        "You can use print_rows(num_rows=m, num_columns=n) to print more rows and columns."
       ]
      }
     ],
     "prompt_number": 13
    },
    {
     "cell_type": "code",
     "collapsed": false,
     "input": [
      "# Pedict top 2 most likely\n",
      "pred_top2 = m.predict_topk(test_data, k=2)\n",
      "pred_top2"
     ],
     "language": "python",
     "metadata": {},
     "outputs": [
      {
       "html": [
        "<div style=\"max-height:1000px;max-width:1500px;overflow:auto;\"><table frame=\"box\" rules=\"cols\">\n",
        "    <tr>\n",
        "        <th style=\"padding-left: 1em; padding-right: 1em; text-align: center\">row_id</th>\n",
        "        <th style=\"padding-left: 1em; padding-right: 1em; text-align: center\">class</th>\n",
        "        <th style=\"padding-left: 1em; padding-right: 1em; text-align: center\">score</th>\n",
        "    </tr>\n",
        "    <tr>\n",
        "        <td style=\"padding-left: 1em; padding-right: 1em; text-align: center; vertical-align: top\">0</td>\n",
        "        <td style=\"padding-left: 1em; padding-right: 1em; text-align: center; vertical-align: top\">0</td>\n",
        "        <td style=\"padding-left: 1em; padding-right: 1em; text-align: center; vertical-align: top\">0.99964928627</td>\n",
        "    </tr>\n",
        "    <tr>\n",
        "        <td style=\"padding-left: 1em; padding-right: 1em; text-align: center; vertical-align: top\">0</td>\n",
        "        <td style=\"padding-left: 1em; padding-right: 1em; text-align: center; vertical-align: top\">2</td>\n",
        "        <td style=\"padding-left: 1em; padding-right: 1em; text-align: center; vertical-align: top\">0.00011502567213</td>\n",
        "    </tr>\n",
        "    <tr>\n",
        "        <td style=\"padding-left: 1em; padding-right: 1em; text-align: center; vertical-align: top\">1</td>\n",
        "        <td style=\"padding-left: 1em; padding-right: 1em; text-align: center; vertical-align: top\">0</td>\n",
        "        <td style=\"padding-left: 1em; padding-right: 1em; text-align: center; vertical-align: top\">0.999995470047</td>\n",
        "    </tr>\n",
        "    <tr>\n",
        "        <td style=\"padding-left: 1em; padding-right: 1em; text-align: center; vertical-align: top\">1</td>\n",
        "        <td style=\"padding-left: 1em; padding-right: 1em; text-align: center; vertical-align: top\">5</td>\n",
        "        <td style=\"padding-left: 1em; padding-right: 1em; text-align: center; vertical-align: top\">4.3486852519e-06</td>\n",
        "    </tr>\n",
        "    <tr>\n",
        "        <td style=\"padding-left: 1em; padding-right: 1em; text-align: center; vertical-align: top\">2</td>\n",
        "        <td style=\"padding-left: 1em; padding-right: 1em; text-align: center; vertical-align: top\">0</td>\n",
        "        <td style=\"padding-left: 1em; padding-right: 1em; text-align: center; vertical-align: top\">0.999910354614</td>\n",
        "    </tr>\n",
        "    <tr>\n",
        "        <td style=\"padding-left: 1em; padding-right: 1em; text-align: center; vertical-align: top\">2</td>\n",
        "        <td style=\"padding-left: 1em; padding-right: 1em; text-align: center; vertical-align: top\">2</td>\n",
        "        <td style=\"padding-left: 1em; padding-right: 1em; text-align: center; vertical-align: top\">3.38482277584e-05</td>\n",
        "    </tr>\n",
        "    <tr>\n",
        "        <td style=\"padding-left: 1em; padding-right: 1em; text-align: center; vertical-align: top\">3</td>\n",
        "        <td style=\"padding-left: 1em; padding-right: 1em; text-align: center; vertical-align: top\">0</td>\n",
        "        <td style=\"padding-left: 1em; padding-right: 1em; text-align: center; vertical-align: top\">0.999957442284</td>\n",
        "    </tr>\n",
        "    <tr>\n",
        "        <td style=\"padding-left: 1em; padding-right: 1em; text-align: center; vertical-align: top\">3</td>\n",
        "        <td style=\"padding-left: 1em; padding-right: 1em; text-align: center; vertical-align: top\">5</td>\n",
        "        <td style=\"padding-left: 1em; padding-right: 1em; text-align: center; vertical-align: top\">2.6675306799e-05</td>\n",
        "    </tr>\n",
        "    <tr>\n",
        "        <td style=\"padding-left: 1em; padding-right: 1em; text-align: center; vertical-align: top\">4</td>\n",
        "        <td style=\"padding-left: 1em; padding-right: 1em; text-align: center; vertical-align: top\">0</td>\n",
        "        <td style=\"padding-left: 1em; padding-right: 1em; text-align: center; vertical-align: top\">0.998709440231</td>\n",
        "    </tr>\n",
        "    <tr>\n",
        "        <td style=\"padding-left: 1em; padding-right: 1em; text-align: center; vertical-align: top\">4</td>\n",
        "        <td style=\"padding-left: 1em; padding-right: 1em; text-align: center; vertical-align: top\">5</td>\n",
        "        <td style=\"padding-left: 1em; padding-right: 1em; text-align: center; vertical-align: top\">0.00126240565442</td>\n",
        "    </tr>\n",
        "    <tr>\n",
        "        <td style=\"padding-left: 1em; padding-right: 1em; text-align: center; vertical-align: top\">...</td>\n",
        "        <td style=\"padding-left: 1em; padding-right: 1em; text-align: center; vertical-align: top\">...</td>\n",
        "        <td style=\"padding-left: 1em; padding-right: 1em; text-align: center; vertical-align: top\">...</td>\n",
        "    </tr>\n",
        "</table>\n",
        "[20000 rows x 3 columns]<br/>Note: Only the head of the SFrame is printed.<br/>You can use print_rows(num_rows=m, num_columns=n) to print more rows and columns.\n",
        "</div>"
       ],
       "metadata": {},
       "output_type": "pyout",
       "prompt_number": 14,
       "text": [
        "Columns:\n",
        "\trow_id\tint\n",
        "\tclass\tint\n",
        "\tscore\tfloat\n",
        "\n",
        "Rows: 20000\n",
        "\n",
        "Data:\n",
        "+--------+-------+-------------------+\n",
        "| row_id | class |       score       |\n",
        "+--------+-------+-------------------+\n",
        "|   0    |   0   |   0.99964928627   |\n",
        "|   0    |   2   |  0.00011502567213 |\n",
        "|   1    |   0   |   0.999995470047  |\n",
        "|   1    |   5   |  4.3486852519e-06 |\n",
        "|   2    |   0   |   0.999910354614  |\n",
        "|   2    |   2   | 3.38482277584e-05 |\n",
        "|   3    |   0   |   0.999957442284  |\n",
        "|   3    |   5   |  2.6675306799e-05 |\n",
        "|   4    |   0   |   0.998709440231  |\n",
        "|   4    |   5   |  0.00126240565442 |\n",
        "|  ...   |  ...  |        ...        |\n",
        "+--------+-------+-------------------+\n",
        "[20000 rows x 3 columns]\n",
        "Note: Only the head of the SFrame is printed.\n",
        "You can use print_rows(num_rows=m, num_columns=n) to print more rows and columns."
       ]
      }
     ],
     "prompt_number": 14
    },
    {
     "cell_type": "code",
     "collapsed": false,
     "input": [
      "eval_ = m.evaluate(test_data)\n",
      "eval_"
     ],
     "language": "python",
     "metadata": {},
     "outputs": [
      {
       "metadata": {},
       "output_type": "pyout",
       "prompt_number": 18,
       "text": [
        "{'accuracy': 0.964900016784668, 'confusion_matrix': Columns:\n",
        " \ttarget_label\tint\n",
        " \tpredicted_label\tint\n",
        " \tcount\tint\n",
        " \n",
        " Rows: 73\n",
        " \n",
        " Data:\n",
        " +--------------+-----------------+-------+\n",
        " | target_label | predicted_label | count |\n",
        " +--------------+-----------------+-------+\n",
        " |      6       |        6        |  913  |\n",
        " |      2       |        6        |   2   |\n",
        " |      8       |        6        |   1   |\n",
        " |      4       |        6        |   3   |\n",
        " |      1       |        6        |   1   |\n",
        " |      0       |        6        |   2   |\n",
        " |      5       |        6        |   4   |\n",
        " |      6       |        2        |   1   |\n",
        " |      2       |        2        |  989  |\n",
        " |      8       |        2        |   3   |\n",
        " |     ...      |       ...       |  ...  |\n",
        " +--------------+-----------------+-------+\n",
        " [73 rows x 3 columns]\n",
        " Note: Only the head of the SFrame is printed.\n",
        " You can use print_rows(num_rows=m, num_columns=n) to print more rows and columns.}"
       ]
      }
     ],
     "prompt_number": 18
    },
    {
     "cell_type": "code",
     "collapsed": false,
     "input": [
      "net.classify(test_data)\n",
      "net.evaluate(test_data)"
     ],
     "language": "python",
     "metadata": {},
     "outputs": [
      {
       "ename": "AttributeError",
       "evalue": "'ConvolutionNet' object has no attribute 'classify'",
       "output_type": "pyerr",
       "traceback": [
        "\u001b[0;31m---------------------------------------------------------------------------\u001b[0m\n\u001b[0;31mAttributeError\u001b[0m                            Traceback (most recent call last)",
        "\u001b[0;32m<ipython-input-19-00a145d1d186>\u001b[0m in \u001b[0;36m<module>\u001b[0;34m()\u001b[0m\n\u001b[0;32m----> 1\u001b[0;31m \u001b[0mnet\u001b[0m\u001b[0;34m.\u001b[0m\u001b[0mclassify\u001b[0m\u001b[0;34m(\u001b[0m\u001b[0mtest_data\u001b[0m\u001b[0;34m)\u001b[0m\u001b[0;34m\u001b[0m\u001b[0m\n\u001b[0m\u001b[1;32m      2\u001b[0m \u001b[0mnet\u001b[0m\u001b[0;34m.\u001b[0m\u001b[0mevaluate\u001b[0m\u001b[0;34m(\u001b[0m\u001b[0mtest_data\u001b[0m\u001b[0;34m)\u001b[0m\u001b[0;34m\u001b[0m\u001b[0m\n",
        "\u001b[0;31mAttributeError\u001b[0m: 'ConvolutionNet' object has no attribute 'classify'"
       ]
      }
     ],
     "prompt_number": 19
    },
    {
     "cell_type": "code",
     "collapsed": false,
     "input": [],
     "language": "python",
     "metadata": {},
     "outputs": []
    }
   ],
   "metadata": {}
  }
 ]
}