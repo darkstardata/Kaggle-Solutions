{
 "metadata": {
  "name": "",
  "signature": "sha256:7848dfce18e8abeb200f7f306f7bcb84cc69ab08271cb7611f14c0ff4016b016"
 },
 "nbformat": 3,
 "nbformat_minor": 0,
 "worksheets": [
  {
   "cells": [
    {
     "cell_type": "code",
     "collapsed": false,
     "input": [
      "'''\n",
      "Kaggle project: https://www.kaggle.com/c/digit-recognizer\n",
      "\n",
      "The goal in this competition is to take an image of a handwritten single digit,\n",
      "and determine what that digit is.  As the competition progresses, we will release \n",
      "tutorials which explain different machine learning algorithms and help you to get started.\n",
      "\n",
      "\n",
      "Solution accuracy for test set is 0.96929\n",
      "\n",
      "n_comp, n_neigh \n",
      "                = 100, 10 ->  accuracy up to 0.96929\n",
      "                = 33, 3 ->  accuracy up to 0.97257\n",
      "'''\n",
      "from sklearn.neighbors import KNeighborsClassifier\n",
      "from sklearn import decomposition\n",
      "import numpy as np\n",
      "import pandas as pd\n",
      "import ipybell\n",
      "\n",
      "PCA_COMPONENTS = 33\n",
      "\n",
      "def Predict(train, labels, test):\n",
      "    print \"Converting training set to matrix\"\n",
      "    X_train = np.mat(train)\n",
      "    print \"Fitting PCA. Components: %d\" % PCA_COMPONENTS\n",
      "    pca = decomposition.PCA(n_components=PCA_COMPONENTS, whiten=True).fit(X_train)\n",
      "    print \"Reducing training to %d components\" % PCA_COMPONENTS\n",
      "    X_train_reduced = pca.transform(X_train)\n",
      "    print \"Fitting kNN with k=3, kd_tree\"\n",
      "    knn = KNeighborsClassifier(n_neighbors=3)\n",
      "    print knn.fit(X_train_reduced, labels)\n",
      "    print \"Reducing test to %d components\" % PCA_COMPONENTS\n",
      "    X_test_reduced = pca.transform(test)\n",
      "    print \"Predicting numbers\"\n",
      "    predictions = knn.predict(X_test_reduced)\n",
      "    print \"Writing to file\"\n",
      "    idheader = np.arange(1,len(predictions)+1,1)\n",
      "    np.savetxt(wdir + \"/predicted.csv\", zip(idheader,predictions), header = 'ImageId,Label', \n",
      "               comments = '', fmt = '%i', delimiter=\",\")\n",
      "    return predictions\n",
      "\n",
      "\n",
      "if __name__ == '__main__':\n",
      "    wdir = '/Users/andrew/Documents/data/MNIST'    \n",
      "    X_test = np.int64(pd.read_csv(wdir + '/test.csv', header=None).as_matrix()[1:,:])\n",
      "    y = pd.read_csv(wdir + '/train.csv', header=False).as_matrix()[:,0]\n",
      "    X = pd.read_csv(wdir + '/train.csv', header=False).as_matrix()[:,1:]\n",
      "\n",
      "    print Predict(X, y, X_test)"
     ],
     "language": "python",
     "metadata": {},
     "outputs": [
      {
       "output_type": "stream",
       "stream": "stdout",
       "text": [
        "Converting training set to matrix\n",
        "Fitting PCA. Components: 33\n",
        "Reducing training to 33 components"
       ]
      },
      {
       "output_type": "stream",
       "stream": "stdout",
       "text": [
        "\n",
        "Fitting kNN with k=3, kd_tree"
       ]
      },
      {
       "output_type": "stream",
       "stream": "stdout",
       "text": [
        "\n",
        "KNeighborsClassifier(algorithm='auto', leaf_size=30, metric='minkowski',\n",
        "           metric_params=None, n_neighbors=3, p=2, weights='uniform')"
       ]
      },
      {
       "output_type": "stream",
       "stream": "stdout",
       "text": [
        "\n",
        "Reducing test to 33 components\n",
        "Predicting numbers"
       ]
      },
      {
       "output_type": "stream",
       "stream": "stdout",
       "text": [
        "\n",
        "Writing to file"
       ]
      },
      {
       "output_type": "stream",
       "stream": "stdout",
       "text": [
        "\n",
        "[2 0 9 ..., 3 9 2]"
       ]
      },
      {
       "output_type": "stream",
       "stream": "stdout",
       "text": [
        "\n"
       ]
      }
     ],
     "prompt_number": 2
    },
    {
     "cell_type": "code",
     "collapsed": false,
     "input": [],
     "language": "python",
     "metadata": {},
     "outputs": []
    }
   ],
   "metadata": {}
  }
 ]
}