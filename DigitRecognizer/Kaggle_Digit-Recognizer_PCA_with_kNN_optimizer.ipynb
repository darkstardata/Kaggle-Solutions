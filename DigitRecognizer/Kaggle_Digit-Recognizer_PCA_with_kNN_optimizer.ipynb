{
 "metadata": {
  "name": "",
  "signature": "sha256:3c53f2351b8312d8471b509eff2ee229e76f62fe6d0d84b71a9d2f4e8643cfa6"
 },
 "nbformat": 3,
 "nbformat_minor": 0,
 "worksheets": [
  {
   "cells": [
    {
     "cell_type": "code",
     "collapsed": false,
     "input": [
      "'''\n",
      "Kaggle project: https://www.kaggle.com/c/digit-recognizer\n",
      "\n",
      "The goal in this competition is to take an image of a handwritten single digit,\n",
      "and determine what that digit is.  As the competition progresses, we will release \n",
      "tutorials which explain different machine learning algorithms and help you to get started.\n",
      "\n",
      "\n",
      "Solution accuracy for test set is ?\n",
      "\n",
      "'''\n",
      "import matplotlib.pyplot as plt\n",
      "import numpy as np\n",
      "import pandas as pd\n",
      "import ipybell\n",
      "\n",
      "from sklearn import decomposition, neighbors, pipeline, grid_search\n",
      "\n",
      "PCA_COMPONENTS = 80\n",
      "KNN_NEIGHBORS = 10\n",
      "\n",
      "def Predict(train, labels, test):\n",
      "    print \"Converting training set to matrix\"\n",
      "    X_train = np.mat(train)\n",
      "    print \"Fitting PCA. Components: %d\" % PCA_COMPONENTS\n",
      "    pca = decomposition.PCA(n_components=PCA_COMPONENTS).fit(X_train)\n",
      "    print \"Reducing training to %d components\" % PCA_COMPONENTS\n",
      "    X_train_reduced = pca.transform(X_train)\n",
      "    print 'Plot best fit for kNN parameter n_neighbors'\n",
      "    test_idx = np.random.uniform(0, 1, len(X_train_reduced)) <= 0.3\n",
      "    train = X_train_reduced[test_idx==True]\n",
      "    trainlabels = labels[test_idx==True]\n",
      "    test = X_train_reduced[test_idx==False]\n",
      "    testlabels = labels[test_idx==False]\n",
      "    results = []\n",
      "    for n in range(1, 51, 2):\n",
      "        knn = neighbors.KNeighborsClassifier(n_neighbors=n)\n",
      "        knn.fit(train, trainlabels)\n",
      "        preds = knn.predict(test)\n",
      "        accuracy = np.where(preds==testlabels, 1, 0).sum() / float(len(test))\n",
      "        print \"Neighbors: %d, Accuracy: %3f\" % (n, accuracy)\n",
      "        results.append([n, accuracy])\n",
      "        \n",
      "    results = pd.DataFrame(results, columns=[\"n\", \"accuracy\"])\n",
      "    plt.plot(results.n, results.accuracy)\n",
      "    plt.title(\"Accuracy with Increasing K\")\n",
      "    plt.show() \n",
      "    \n",
      "    \n",
      "    print \"Fitting kNN with k=%d, kd_tree\" % KNN_NEIGHBORS\n",
      "    knn = neighbors.KNeighborsClassifier(n_neighbors=KNN_NEIGHBORS)\n",
      "    print knn.fit(X_train_reduced, labels)\n",
      "    print \"Reducing test to %d components\" % PCA_COMPONENTS\n",
      "    X_test_reduced = pca.transform(test)\n",
      "    print \"Predicting numbers\"\n",
      "    predictions = knn.predict(X_test_reduced)\n",
      "    print \"Writing to file\"\n",
      "    idheader = np.arange(1,len(predictions)+1,1)\n",
      "    np.savetxt(wdir + \"/predicted2.csv\", zip(idheader,predictions), header = 'ImageId,Label', \n",
      "               comments = '', fmt = '%i', delimiter=\",\")\n",
      "    return predictions\n",
      "\n",
      "\n",
      "if __name__ == '__main__':\n",
      "    wdir = '/Users/andrew/Documents/data/MNIST'    \n",
      "    X_test = np.int64(pd.read_csv(wdir + '/test.csv', header=None).as_matrix()[1:,:])\n",
      "    y = pd.read_csv(wdir + '/train.csv', header=False).as_matrix()[:,0]\n",
      "    X = pd.read_csv(wdir + '/train.csv', header=False).as_matrix()[:,1:]\n",
      "\n",
      "    %bell -n osx print Predict(X, y, X_test)"
     ],
     "language": "python",
     "metadata": {},
     "outputs": [
      {
       "output_type": "stream",
       "stream": "stdout",
       "text": [
        "Converting training set to matrix\n",
        "Fitting PCA. Components: 80\n",
        "Reducing training to 80 components"
       ]
      },
      {
       "output_type": "stream",
       "stream": "stdout",
       "text": [
        "\n",
        "Plot best fit for kNN parameter n_neighbors"
       ]
      },
      {
       "output_type": "stream",
       "stream": "stdout",
       "text": [
        "\n",
        "Neighbors: 1, Accuracy: 0.961112"
       ]
      },
      {
       "output_type": "stream",
       "stream": "stdout",
       "text": [
        "\n",
        "Neighbors: 3, Accuracy: 0.961926"
       ]
      },
      {
       "output_type": "stream",
       "stream": "stdout",
       "text": [
        "\n",
        "Neighbors: 5, Accuracy: 0.960433"
       ]
      },
      {
       "output_type": "stream",
       "stream": "stdout",
       "text": [
        "\n",
        "Neighbors: 7, Accuracy: 0.958533"
       ]
      },
      {
       "output_type": "stream",
       "stream": "stdout",
       "text": [
        "\n",
        "Neighbors: 9, Accuracy: 0.957107"
       ]
      },
      {
       "output_type": "stream",
       "stream": "stdout",
       "text": [
        "\n",
        "Neighbors: 11, Accuracy: 0.955105"
       ]
      },
      {
       "output_type": "stream",
       "stream": "stdout",
       "text": [
        "\n",
        "Neighbors: 13, Accuracy: 0.953001"
       ]
      },
      {
       "output_type": "stream",
       "stream": "stdout",
       "text": [
        "\n",
        "Neighbors: 15, Accuracy: 0.952289"
       ]
      },
      {
       "output_type": "stream",
       "stream": "stdout",
       "text": [
        "\n",
        "Neighbors: 17, Accuracy: 0.950219"
       ]
      },
      {
       "output_type": "stream",
       "stream": "stdout",
       "text": [
        "\n",
        "Neighbors: 19, Accuracy: 0.949133"
       ]
      },
      {
       "output_type": "stream",
       "stream": "stdout",
       "text": [
        "\n",
        "Neighbors: 21, Accuracy: 0.947402"
       ]
      },
      {
       "output_type": "stream",
       "stream": "stdout",
       "text": [
        "\n",
        "Neighbors: 23, Accuracy: 0.946452"
       ]
      },
      {
       "output_type": "stream",
       "stream": "stdout",
       "text": [
        "\n",
        "Neighbors: 25, Accuracy: 0.945298"
       ]
      },
      {
       "output_type": "stream",
       "stream": "stdout",
       "text": [
        "\n",
        "Neighbors: 27, Accuracy: 0.944382"
       ]
      },
      {
       "output_type": "stream",
       "stream": "stdout",
       "text": [
        "\n",
        "Neighbors: 29, Accuracy: 0.943059"
       ]
      },
      {
       "output_type": "stream",
       "stream": "stdout",
       "text": [
        "\n",
        "Neighbors: 31, Accuracy: 0.942007"
       ]
      },
      {
       "output_type": "stream",
       "stream": "stdout",
       "text": [
        "\n",
        "Neighbors: 33, Accuracy: 0.940548"
       ]
      },
      {
       "output_type": "stream",
       "stream": "stdout",
       "text": [
        "\n",
        "Neighbors: 35, Accuracy: 0.939530"
       ]
      },
      {
       "output_type": "stream",
       "stream": "stdout",
       "text": [
        "\n",
        "Neighbors: 37, Accuracy: 0.938919"
       ]
      },
      {
       "output_type": "stream",
       "stream": "stdout",
       "text": [
        "\n",
        "Neighbors: 39, Accuracy: 0.938037"
       ]
      },
      {
       "output_type": "stream",
       "stream": "stdout",
       "text": [
        "\n",
        "Neighbors: 41, Accuracy: 0.936917"
       ]
      },
      {
       "output_type": "stream",
       "stream": "stdout",
       "text": [
        "\n",
        "Neighbors: 43, Accuracy: 0.935492"
       ]
      },
      {
       "output_type": "stream",
       "stream": "stdout",
       "text": [
        "\n",
        "Neighbors: 45, Accuracy: 0.935016"
       ]
      },
      {
       "output_type": "stream",
       "stream": "stdout",
       "text": [
        "\n",
        "Neighbors: 47, Accuracy: 0.934338"
       ]
      },
      {
       "output_type": "stream",
       "stream": "stdout",
       "text": [
        "\n",
        "Neighbors: 49, Accuracy: 0.933286"
       ]
      },
      {
       "output_type": "stream",
       "stream": "stdout",
       "text": [
        "\n"
       ]
      },
      {
       "metadata": {},
       "output_type": "display_data",
       "png": "[encoded data removed]",
       "text": [
        "<matplotlib.figure.Figure at 0x12f392750>"
       ]
      },
      {
       "output_type": "stream",
       "stream": "stdout",
       "text": [
        "Fitting kNN with k=10, kd_tree\n",
        "KNeighborsClassifier(algorithm='auto', leaf_size=30, metric='minkowski',\n",
        "           metric_params=None, n_neighbors=10, p=2, weights='uniform')"
       ]
      },
      {
       "output_type": "stream",
       "stream": "stdout",
       "text": [
        "\n",
        "Reducing test to 80 components\n"
       ]
      },
      {
       "ename": "ValueError",
       "evalue": "operands could not be broadcast together with shapes (29469,80) (784,) ",
       "output_type": "pyerr",
       "traceback": [
        "\u001b[0;31m---------------------------------------------------------------------------\u001b[0m\n\u001b[0;31mValueError\u001b[0m                                Traceback (most recent call last)",
        "\u001b[0;32m<ipython-input-4-71aa667e1736>\u001b[0m in \u001b[0;36m<module>\u001b[0;34m()\u001b[0m\n\u001b[0;32m----> 1\u001b[0;31m \u001b[0;32mprint\u001b[0m \u001b[0mPredict\u001b[0m\u001b[0;34m(\u001b[0m\u001b[0mX\u001b[0m\u001b[0;34m,\u001b[0m \u001b[0my\u001b[0m\u001b[0;34m,\u001b[0m \u001b[0mX_test\u001b[0m\u001b[0;34m)\u001b[0m\u001b[0;34m\u001b[0m\u001b[0m\n\u001b[0m",
        "\u001b[0;32m<ipython-input-4-4ebded9ba49b>\u001b[0m in \u001b[0;36mPredict\u001b[0;34m(train, labels, test)\u001b[0m\n\u001b[1;32m     52\u001b[0m     \u001b[0;32mprint\u001b[0m \u001b[0mknn\u001b[0m\u001b[0;34m.\u001b[0m\u001b[0mfit\u001b[0m\u001b[0;34m(\u001b[0m\u001b[0mX_train_reduced\u001b[0m\u001b[0;34m,\u001b[0m \u001b[0mlabels\u001b[0m\u001b[0;34m)\u001b[0m\u001b[0;34m\u001b[0m\u001b[0m\n\u001b[1;32m     53\u001b[0m     \u001b[0;32mprint\u001b[0m \u001b[0;34m\"Reducing test to %d components\"\u001b[0m \u001b[0;34m%\u001b[0m \u001b[0mPCA_COMPONENTS\u001b[0m\u001b[0;34m\u001b[0m\u001b[0m\n\u001b[0;32m---> 54\u001b[0;31m     \u001b[0mX_test_reduced\u001b[0m \u001b[0;34m=\u001b[0m \u001b[0mpca\u001b[0m\u001b[0;34m.\u001b[0m\u001b[0mtransform\u001b[0m\u001b[0;34m(\u001b[0m\u001b[0mtest\u001b[0m\u001b[0;34m)\u001b[0m\u001b[0;34m\u001b[0m\u001b[0m\n\u001b[0m\u001b[1;32m     55\u001b[0m     \u001b[0;32mprint\u001b[0m \u001b[0;34m\"Predicting numbers\"\u001b[0m\u001b[0;34m\u001b[0m\u001b[0m\n\u001b[1;32m     56\u001b[0m     \u001b[0mpredictions\u001b[0m \u001b[0;34m=\u001b[0m \u001b[0mknn\u001b[0m\u001b[0;34m.\u001b[0m\u001b[0mpredict\u001b[0m\u001b[0;34m(\u001b[0m\u001b[0mX_test_reduced\u001b[0m\u001b[0;34m)\u001b[0m\u001b[0;34m\u001b[0m\u001b[0m\n",
        "\u001b[0;32m/Users/andrew/Library/Enthought/Canopy_64bit/User/lib/python2.7/site-packages/sklearn/decomposition/pca.pyc\u001b[0m in \u001b[0;36mtransform\u001b[0;34m(self, X)\u001b[0m\n\u001b[1;32m    393\u001b[0m         \u001b[0mX\u001b[0m \u001b[0;34m=\u001b[0m \u001b[0marray2d\u001b[0m\u001b[0;34m(\u001b[0m\u001b[0mX\u001b[0m\u001b[0;34m)\u001b[0m\u001b[0;34m\u001b[0m\u001b[0m\n\u001b[1;32m    394\u001b[0m         \u001b[0;32mif\u001b[0m \u001b[0mself\u001b[0m\u001b[0;34m.\u001b[0m\u001b[0mmean_\u001b[0m \u001b[0;32mis\u001b[0m \u001b[0;32mnot\u001b[0m \u001b[0mNone\u001b[0m\u001b[0;34m:\u001b[0m\u001b[0;34m\u001b[0m\u001b[0m\n\u001b[0;32m--> 395\u001b[0;31m             \u001b[0mX\u001b[0m \u001b[0;34m=\u001b[0m \u001b[0mX\u001b[0m \u001b[0;34m-\u001b[0m \u001b[0mself\u001b[0m\u001b[0;34m.\u001b[0m\u001b[0mmean_\u001b[0m\u001b[0;34m\u001b[0m\u001b[0m\n\u001b[0m\u001b[1;32m    396\u001b[0m         \u001b[0mX_transformed\u001b[0m \u001b[0;34m=\u001b[0m \u001b[0mfast_dot\u001b[0m\u001b[0;34m(\u001b[0m\u001b[0mX\u001b[0m\u001b[0;34m,\u001b[0m \u001b[0mself\u001b[0m\u001b[0;34m.\u001b[0m\u001b[0mcomponents_\u001b[0m\u001b[0;34m.\u001b[0m\u001b[0mT\u001b[0m\u001b[0;34m)\u001b[0m\u001b[0;34m\u001b[0m\u001b[0m\n\u001b[1;32m    397\u001b[0m         \u001b[0;32mreturn\u001b[0m \u001b[0mX_transformed\u001b[0m\u001b[0;34m\u001b[0m\u001b[0m\n",
        "\u001b[0;31mValueError\u001b[0m: operands could not be broadcast together with shapes (29469,80) (784,) "
       ]
      }
     ],
     "prompt_number": 4
    },
    {
     "cell_type": "code",
     "collapsed": false,
     "input": [],
     "language": "python",
     "metadata": {},
     "outputs": []
    }
   ],
   "metadata": {}
  }
 ]
}