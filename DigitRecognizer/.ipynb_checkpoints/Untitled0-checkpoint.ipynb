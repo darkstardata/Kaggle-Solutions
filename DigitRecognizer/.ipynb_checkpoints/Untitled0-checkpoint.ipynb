{
 "metadata": {
  "name": "",
  "signature": "sha256:a82bffddb4f0e5f9db37f32edb87a160213005b1bc3759c9562b86520efa4321"
 },
 "nbformat": 3,
 "nbformat_minor": 0,
 "worksheets": [
  {
   "cells": [
    {
     "cell_type": "code",
     "collapsed": false,
     "input": [
      "# Plot package\n",
      "import matplotlib.pyplot as plt\n",
      "\n",
      "# pandas and numpy\n",
      "# not so much of pandas but for read_csv which is more efficient than numpy.loadtxt\n",
      "import numpy as np\n",
      "import pandas as pd\n",
      "\n",
      "# scikit-learn classifiers and cross validation utils\n",
      "from sklearn.neural_network import BernoulliRBM\n",
      "from sklearn.svm import SVC\n",
      "from sklearn.grid_search import GridSearchCV\n",
      "\n",
      "# Preprocessing and pipeline\n",
      "from sklearn.preprocessing import scale\n",
      "from sklearn.pipeline import Pipeline\n",
      "\n",
      "# scikit-learn dimension reduction\n",
      "from sklearn.decomposition import PCA\n",
      "\n",
      "# scipy image shifts and rotations\n",
      "from scipy.ndimage import convolve\n",
      "import scipy.ndimage as nd\n",
      "\n",
      "# Model evaluation\n",
      "from sklearn.cross_validation import train_test_split\n",
      "from sklearn.metrics import classification_report, zero_one_loss\n",
      "\n",
      "# Beep when finished\n",
      "import ipybell\n",
      "import time\n",
      "\n",
      "# The Big Guns!\n",
      "from nolearn.dbn import DBN\n",
      "\n",
      "wdir = '/Users/andrew/Documents/data/MNIST'\n",
      "\n",
      "def notify():\n",
      "    %bell -n osx time.sleep(0.5)\n",
      "    %bell -n osx time.sleep(0.5)\n",
      "    %bell -n osx time.sleep(0.5)\n",
      "    %bell -n osx time.sleep(1)\n",
      "    %bell -n osx time.sleep(0.5)\n",
      "    %bell -n osx time.sleep(0.5)\n",
      "\n",
      "def postage_stamp(X):\n",
      "    XX = np.zeros((X.shape[0],576))\n",
      "    for index in range(X.shape[0]):\n",
      "        step1 = np.reshape(X[index,:],((28,28)))[2:26,2:26]\n",
      "        XX[index,:] = step1.ravel()\n",
      "    return XX\n",
      "\n",
      "def rotate_dataset(X):\n",
      "    XX = np.zeros(X.shape)\n",
      "    for index in range(X.shape[0]):\n",
      "        angle = np.random.randint(-7,7)\n",
      "        XX[index,:] = nd.rotate(np.reshape(X[index,:],((28,28))),angle,reshape=False).ravel()\n",
      "    return XX\n",
      "\n",
      "def nudge_dataset(X, Y):\n",
      "    \"\"\"\n",
      "    This produces a dataset 5 times bigger than the original one,\n",
      "    by moving the 8x8 images in X around by 1px to left, right, down, and up.\n",
      "    \"\"\"\n",
      "    direction_vectors = [\n",
      "        [[0, 1, 0],\n",
      "         [0, 0, 0],\n",
      "         [0, 0, 0]],\n",
      "\n",
      "        [[0, 0, 0],\n",
      "         [1, 0, 0],\n",
      "         [0, 0, 0]],\n",
      "\n",
      "        [[0, 0, 0],\n",
      "         [0, 0, 1],\n",
      "         [0, 0, 0]],\n",
      "\n",
      "        [[0, 0, 0],\n",
      "         [0, 0, 0],\n",
      "         [0, 1, 0]]]\n",
      "    shift = lambda x, w: convolve(x.reshape((28, 28)), mode='constant',weights=w).ravel()\n",
      "    X = np.concatenate([X] + [np.apply_along_axis(shift, 1, X, vector) for vector in direction_vectors])\n",
      "    Y = np.concatenate([Y for _ in range(5)], axis=0)\n",
      "    return X, Y"
     ],
     "language": "python",
     "metadata": {},
     "outputs": [],
     "prompt_number": 3
    },
    {
     "cell_type": "code",
     "collapsed": false,
     "input": [
      "# Load training and final test data\n",
      "mnist = pd.read_csv(wdir + \"/train.csv\")\n",
      "mnist_test = pd.read_csv(wdir + \"/test.csv\")\n",
      "print \"Data loaded\"\n",
      "\n",
      "# Split data into labels, pixel data, and final test data\n",
      "Y = mnist['label'].values\n",
      "X = mnist.loc[:,'pixel0':].values\n",
      "final_test = mnist_test.loc[:,'pixel0':].values\n",
      "print \"Data split\"\n",
      "\n",
      "# Normalize data\n",
      "X = np.asarray(X / 255.0, 'float32')\n",
      "final_test = np.asarray(final_test / 255.0, 'float32')\n",
      "print \"Data normalized\"\n",
      "\n",
      "# Create new data by shifting images up, down, left, and right. \n",
      "# Then cut off 2 pixel wide border around images and rotate at random angles between -7 and 7 degrees\n",
      "\n",
      "X_nudge, Y_nudge = nudge_dataset(X, Y)\n",
      "print \"Training set shifted\"\n",
      "\n",
      "#X_train = postage_stamp(X_nudge)\n",
      "#print \"Borders removed on training set\"\n",
      "\n",
      "#final_test = postage_stamp(final_test)\n",
      "#print \"Borders removed on test set\"\n",
      "\n",
      "#X_train = rotate_dataset(X_train)\n",
      "X_train = rotate_dataset(X_nudge)\n",
      "print \"Training set rotated\"\n",
      "\n",
      "Y_train = Y_nudge.copy()"
     ],
     "language": "python",
     "metadata": {},
     "outputs": [
      {
       "output_type": "stream",
       "stream": "stdout",
       "text": [
        "Data loaded\n",
        "Data split\n",
        "Data normalized"
       ]
      },
      {
       "output_type": "stream",
       "stream": "stdout",
       "text": [
        "\n",
        "Training set shifted"
       ]
      },
      {
       "output_type": "stream",
       "stream": "stdout",
       "text": [
        "\n",
        "Training set rotated"
       ]
      },
      {
       "output_type": "stream",
       "stream": "stdout",
       "text": [
        "\n"
       ]
      }
     ],
     "prompt_number": 4
    },
    {
     "cell_type": "code",
     "collapsed": false,
     "input": [
      "# Digit inspector\n",
      "f, (ax1, ax2, ax3, ax4, ax5) = plt.subplots(ncols=5)\n",
      "\n",
      "imsize = (28, 28)\n",
      "ax1.matshow(np.reshape(X_train[3,:], imsize), cmap='gray_r')\n",
      "ax2.matshow(np.reshape(X_train[42003,:], imsize), cmap='gray_r')\n",
      "ax3.matshow(np.reshape(X_train[84003,:], imsize), cmap='gray_r')\n",
      "ax4.matshow(np.reshape(X_train[126003,:], imsize), cmap='gray_r')\n",
      "ax5.matshow(np.reshape(X_train[168003,:], imsize), cmap='gray_r')\n",
      "f.tight_layout();\n",
      "print \"Model tested\"\n",
      "notify()"
     ],
     "language": "python",
     "metadata": {},
     "outputs": [
      {
       "output_type": "stream",
       "stream": "stdout",
       "text": [
        "Model tested\n"
       ]
      },
      {
       "metadata": {},
       "output_type": "display_data",
       "png": "[encoded data removed]",
       "text": [
        "<matplotlib.figure.Figure at 0x1110384d0>"
       ]
      }
     ],
     "prompt_number": 5
    },
    {
     "cell_type": "code",
     "collapsed": false,
     "input": [
      "print \"Fitting DBN model and predicting test set\"\n",
      "# Fit model and predict test set classifications\n",
      "clf = DBN([X_train.shape[1], 350, 10],\n",
      "                    learn_rates=0.3,\n",
      "                    learn_rate_decays=0.95,\n",
      "                    learn_rates_pretrain=0.005,\n",
      "                    minibatch_size=100,\n",
      "                    epochs=20,\n",
      "                    verbose=1,)\n",
      "clf.fit(X_train, Y_train)\n",
      "Y_pred = clf.predict(X_test)\n",
      "\n",
      "# Evaluation of test portion of training set\n",
      "print \"Accuracy:\", zero_one_loss(Y_test, Y_pred, normalize=True)\n",
      "print \"dBN classification report:\\n%s\\n\" % classification_report(Y_test, Y_pred)\n",
      "\n",
      "# Evaluation of Kaggle test set\n",
      "print \"Classifying Kaggle test set\"\n",
      "subm = pd.read_csv(wdir + \"/knn_benchmark.csv\")\n",
      "subm.Label = clf.predict(final_test)\n",
      "subm.to_csv(wdir + \"/DBN_results_whole.csv\", index_label='ImageId', col=['Label'], index=False)\n",
      "print \"Kaggle solutions written to file\""
     ],
     "language": "python",
     "metadata": {},
     "outputs": []
    }
   ],
   "metadata": {}
  }
 ]
}