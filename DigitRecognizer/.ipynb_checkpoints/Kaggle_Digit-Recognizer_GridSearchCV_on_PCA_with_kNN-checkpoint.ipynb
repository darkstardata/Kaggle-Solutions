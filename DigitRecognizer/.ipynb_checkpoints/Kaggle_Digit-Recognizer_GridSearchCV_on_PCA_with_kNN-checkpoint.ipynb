{
 "metadata": {
  "name": "",
  "signature": "sha256:1d8c278a68aab153c7830f044440329095420875ed997d2795fe57587891697a"
 },
 "nbformat": 3,
 "nbformat_minor": 0,
 "worksheets": [
  {
   "cells": [
    {
     "cell_type": "code",
     "collapsed": false,
     "input": [
      "'''\n",
      "Kaggle project: https://www.kaggle.com/c/digit-recognizer\n",
      "\n",
      "The goal in this competition is to take an image of a handwritten single digit,\n",
      "and determine what that digit is.  As the competition progresses, we will release \n",
      "tutorials which explain different machine learning algorithms and help you to get started.\n",
      "\n",
      "\n",
      "Solution accuracy for test set is ?\n",
      "\n",
      "n_components 40 was best of [20, 40, 64, 100]\n",
      "             30 was best out of [20, 30, 40]\n",
      "             35 was best out of [20, 25, 30, 35, 40]\n",
      "             33 was best out of [30, 33, 35, 37, 40]\n",
      "             33 was best out of [31, 32, 33, 34]\n",
      "'''\n",
      "import matplotlib.pyplot as plt\n",
      "import numpy as np\n",
      "import pandas as pd\n",
      "import ipybell\n",
      "\n",
      "from sklearn import decomposition, neighbors, pipeline, grid_search\n",
      "\n",
      "\n",
      "def Predict(train, labels, test):\n",
      "    pca = decomposition.PCA()\n",
      "    knn = neighbors.KNeighborsClassifier(algorithm=\"kd_tree\")\n",
      "    pipe = pipeline.Pipeline(steps=[('pca', pca), ('knn', knn)])\n",
      "    print 'Analyzing PCA spectrum'\n",
      "    pca.fit(train)\n",
      "    plt.figure(1, figsize=(4, 3))\n",
      "    plt.clf()\n",
      "    plt.axes([.2, .2, .7, .7])\n",
      "    plt.plot(pca.explained_variance_, linewidth=2)\n",
      "    plt.axis('tight')\n",
      "    plt.xlabel('n_components')\n",
      "    plt.ylabel('explained_variance_')\n",
      "    print 'Finding optimal parameters using GridSearchCV'\n",
      "    n_components = [33, 80]\n",
      "    n_neighbors = 10\n",
      "    estimator = grid_search.GridSearchCV(pipe, dict(pca__n_components=n_components,knn__n_neighbors=n_neighbors), n_jobs=2)\n",
      "    estimator.fit(train, labels)\n",
      "    print 'Plot best fit for n_components'\n",
      "    plt.axvline(estimator.best_estimator_.named_steps['pca'].n_components,\n",
      "                linestyle=':', label='n_components chosen')\n",
      "    plt.legend(prop=dict(size=12))\n",
      "    plt.show()\n",
      "    PCA_COMPONENTS = estimator.best_estimator_.named_steps['pca'].n_components\n",
      "    KNN_NEIGHBORS = estimator.best_estimator_.named_steps['knn'].n_neighbors\n",
      "    print \"Converting training set to matrix\"\n",
      "    X_train = np.mat(train)\n",
      "    print \"Fitting PCA. Components: %d\" % PCA_COMPONENTS\n",
      "    pca = decomposition.PCA(n_components=PCA_COMPONENTS).fit(X_train)\n",
      "    print \"Reducing training to %d components\" % PCA_COMPONENTS\n",
      "    X_train_reduced = pca.transform(X_train)\n",
      "    print \"Fitting kNN with k=%d, kd_tree\" % KNN_NEIGHBORS\n",
      "    knn = neighbors.KNeighborsClassifier(n_neighbors=KNN_NEIGHBORS, algorithm=\"kd_tree\")\n",
      "    print knn.fit(X_train_reduced, labels)\n",
      "    print \"Reducing test to %d components\" % PCA_COMPONENTS\n",
      "    X_test_reduced = pca.transform(test)\n",
      "    print \"Predicting numbers\"\n",
      "    predictions = knn.predict(X_test_reduced)\n",
      "    print \"Writing to file\"\n",
      "    idheader = np.arange(1,len(predictions)+1,1)\n",
      "    np.savetxt(wdir + \"/predicted2.csv\", zip(idheader,predictions), header = 'ImageId,Label', \n",
      "               comments = '', fmt = '%i', delimiter=\",\")\n",
      "    return predictions\n",
      "\n",
      "\n",
      "if __name__ == '__main__':\n",
      "    wdir = '/Users/andrew/Documents/data/MNIST'    \n",
      "    X_test = np.int64(pd.read_csv(wdir + '/test.csv', header=None).as_matrix()[1:,:])\n",
      "    y = pd.read_csv(wdir + '/train.csv', header=False).as_matrix()[:,0]\n",
      "    X = pd.read_csv(wdir + '/train.csv', header=False).as_matrix()[:,1:]\n",
      "\n",
      "    %bell -n osx print Predict(X, y, X_test)"
     ],
     "language": "python",
     "metadata": {},
     "outputs": [
      {
       "output_type": "stream",
       "stream": "stdout",
       "text": [
        "Analyzing PCA spectrum\n",
        "Finding optimal parameters using GridSearchCV"
       ]
      },
      {
       "output_type": "stream",
       "stream": "stdout",
       "text": [
        "\n"
       ]
      },
      {
       "ename": "ValueError",
       "evalue": "Parameter values should be a list.",
       "output_type": "pyerr",
       "traceback": [
        "\u001b[0;31m---------------------------------------------------------------------------\u001b[0m\n\u001b[0;31mValueError\u001b[0m                                Traceback (most recent call last)",
        "\u001b[0;32m<ipython-input-9-71aa667e1736>\u001b[0m in \u001b[0;36m<module>\u001b[0;34m()\u001b[0m\n\u001b[0;32m----> 1\u001b[0;31m \u001b[0;32mprint\u001b[0m \u001b[0mPredict\u001b[0m\u001b[0;34m(\u001b[0m\u001b[0mX\u001b[0m\u001b[0;34m,\u001b[0m \u001b[0my\u001b[0m\u001b[0;34m,\u001b[0m \u001b[0mX_test\u001b[0m\u001b[0;34m)\u001b[0m\u001b[0;34m\u001b[0m\u001b[0m\n\u001b[0m",
        "\u001b[0;32m<ipython-input-9-1f1335cd12ab>\u001b[0m in \u001b[0;36mPredict\u001b[0;34m(train, labels, test)\u001b[0m\n\u001b[1;32m     41\u001b[0m     estimator = grid_search.GridSearchCV(pipe,\n\u001b[1;32m     42\u001b[0m                                          \u001b[0mdict\u001b[0m\u001b[0;34m(\u001b[0m\u001b[0mpca__n_components\u001b[0m\u001b[0;34m=\u001b[0m\u001b[0mn_components\u001b[0m\u001b[0;34m,\u001b[0m\u001b[0mknn__n_neighbors\u001b[0m\u001b[0;34m=\u001b[0m\u001b[0mn_neighbors\u001b[0m\u001b[0;34m)\u001b[0m\u001b[0;34m,\u001b[0m\u001b[0;34m\u001b[0m\u001b[0m\n\u001b[0;32m---> 43\u001b[0;31m                                          n_jobs=2)\n\u001b[0m\u001b[1;32m     44\u001b[0m     \u001b[0mestimator\u001b[0m\u001b[0;34m.\u001b[0m\u001b[0mfit\u001b[0m\u001b[0;34m(\u001b[0m\u001b[0mtrain\u001b[0m\u001b[0;34m,\u001b[0m \u001b[0mlabels\u001b[0m\u001b[0;34m)\u001b[0m\u001b[0;34m\u001b[0m\u001b[0m\n\u001b[1;32m     45\u001b[0m     \u001b[0;32mprint\u001b[0m \u001b[0;34m'Plot best fit for n_components'\u001b[0m\u001b[0;34m\u001b[0m\u001b[0m\n",
        "\u001b[0;32m/Users/andrew/Library/Enthought/Canopy_64bit/User/lib/python2.7/site-packages/sklearn/grid_search.pyc\u001b[0m in \u001b[0;36m__init__\u001b[0;34m(self, estimator, param_grid, scoring, loss_func, score_func, fit_params, n_jobs, iid, refit, cv, verbose, pre_dispatch)\u001b[0m\n\u001b[1;32m    577\u001b[0m             refit, cv, verbose, pre_dispatch)\n\u001b[1;32m    578\u001b[0m         \u001b[0mself\u001b[0m\u001b[0;34m.\u001b[0m\u001b[0mparam_grid\u001b[0m \u001b[0;34m=\u001b[0m \u001b[0mparam_grid\u001b[0m\u001b[0;34m\u001b[0m\u001b[0m\n\u001b[0;32m--> 579\u001b[0;31m         \u001b[0m_check_param_grid\u001b[0m\u001b[0;34m(\u001b[0m\u001b[0mparam_grid\u001b[0m\u001b[0;34m)\u001b[0m\u001b[0;34m\u001b[0m\u001b[0m\n\u001b[0m\u001b[1;32m    580\u001b[0m \u001b[0;34m\u001b[0m\u001b[0m\n\u001b[1;32m    581\u001b[0m     \u001b[0;32mdef\u001b[0m \u001b[0mfit\u001b[0m\u001b[0;34m(\u001b[0m\u001b[0mself\u001b[0m\u001b[0;34m,\u001b[0m \u001b[0mX\u001b[0m\u001b[0;34m,\u001b[0m \u001b[0my\u001b[0m\u001b[0;34m=\u001b[0m\u001b[0mNone\u001b[0m\u001b[0;34m)\u001b[0m\u001b[0;34m:\u001b[0m\u001b[0;34m\u001b[0m\u001b[0m\n",
        "\u001b[0;32m/Users/andrew/Library/Enthought/Canopy_64bit/User/lib/python2.7/site-packages/sklearn/grid_search.pyc\u001b[0m in \u001b[0;36m_check_param_grid\u001b[0;34m(param_grid)\u001b[0m\n\u001b[1;32m    244\u001b[0m             \u001b[0mcheck\u001b[0m \u001b[0;34m=\u001b[0m \u001b[0;34m[\u001b[0m\u001b[0misinstance\u001b[0m\u001b[0;34m(\u001b[0m\u001b[0mv\u001b[0m\u001b[0;34m,\u001b[0m \u001b[0mk\u001b[0m\u001b[0;34m)\u001b[0m \u001b[0;32mfor\u001b[0m \u001b[0mk\u001b[0m \u001b[0;32min\u001b[0m \u001b[0;34m(\u001b[0m\u001b[0mlist\u001b[0m\u001b[0;34m,\u001b[0m \u001b[0mtuple\u001b[0m\u001b[0;34m,\u001b[0m \u001b[0mnp\u001b[0m\u001b[0;34m.\u001b[0m\u001b[0mndarray\u001b[0m\u001b[0;34m)\u001b[0m\u001b[0;34m]\u001b[0m\u001b[0;34m\u001b[0m\u001b[0m\n\u001b[1;32m    245\u001b[0m             \u001b[0;32mif\u001b[0m \u001b[0;32mnot\u001b[0m \u001b[0mTrue\u001b[0m \u001b[0;32min\u001b[0m \u001b[0mcheck\u001b[0m\u001b[0;34m:\u001b[0m\u001b[0;34m\u001b[0m\u001b[0m\n\u001b[0;32m--> 246\u001b[0;31m                 \u001b[0;32mraise\u001b[0m \u001b[0mValueError\u001b[0m\u001b[0;34m(\u001b[0m\u001b[0;34m\"Parameter values should be a list.\"\u001b[0m\u001b[0;34m)\u001b[0m\u001b[0;34m\u001b[0m\u001b[0m\n\u001b[0m\u001b[1;32m    247\u001b[0m \u001b[0;34m\u001b[0m\u001b[0m\n\u001b[1;32m    248\u001b[0m             \u001b[0;32mif\u001b[0m \u001b[0mlen\u001b[0m\u001b[0;34m(\u001b[0m\u001b[0mv\u001b[0m\u001b[0;34m)\u001b[0m \u001b[0;34m==\u001b[0m \u001b[0;36m0\u001b[0m\u001b[0;34m:\u001b[0m\u001b[0;34m\u001b[0m\u001b[0m\n",
        "\u001b[0;31mValueError\u001b[0m: Parameter values should be a list."
       ]
      },
      {
       "metadata": {},
       "output_type": "display_data",
       "png": "[encoded data removed]",
       "text": [
        "<matplotlib.figure.Figure at 0x1235b4450>"
       ]
      }
     ],
     "prompt_number": 9
    },
    {
     "cell_type": "code",
     "collapsed": false,
     "input": [],
     "language": "python",
     "metadata": {},
     "outputs": []
    }
   ],
   "metadata": {}
  }
 ]
}