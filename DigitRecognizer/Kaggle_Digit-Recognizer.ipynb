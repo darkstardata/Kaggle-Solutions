{
 "metadata": {
  "name": "",
  "signature": "sha256:15a80434354d5b2c4f778b4949b90238dbbe6afb9b23c08555eb00f9de200de1"
 },
 "nbformat": 3,
 "nbformat_minor": 0,
 "worksheets": [
  {
   "cells": [
    {
     "cell_type": "code",
     "collapsed": false,
     "input": [
      "'''\n",
      "Kaggle project: https://www.kaggle.com/c/digit-recognizer\n",
      "\n",
      "The goal in this competition is to take an image of a handwritten single digit,\n",
      "and determine what that digit is.  As the competition progresses, we will release \n",
      "tutorials which explain different machine learning algorithms and help you to get started.\n",
      "\n",
      "'''\n",
      "\n",
      "# Plot package\n",
      "import matplotlib.pyplot as plt\n",
      "\n",
      "# pandas and numpy\n",
      "# not so much of pandas but for read_csv which is more efficient than numpy.loadtxt\n",
      "import numpy as np\n",
      "import pandas as pd\n",
      "\n",
      "# scikit-learn classifiers and cross validation utils\n",
      "from sklearn.svm import SVC\n",
      "from sklearn.grid_search import GridSearchCV\n",
      "\n",
      "# Preprocessing and pipeline\n",
      "from sklearn.preprocessing import scale\n",
      "from sklearn.pipeline import Pipeline\n",
      "\n",
      "# scikit-learn dimension reduction\n",
      "from sklearn.decomposition import PCA\n",
      "\n",
      "# scipy image shifts and rotations\n",
      "from scipy.ndimage import convolve\n",
      "import scipy.ndimage as nd\n",
      "\n",
      "# Model evaluation\n",
      "from sklearn.cross_validation import train_test_split\n",
      "from sklearn.metrics import classification_report\n",
      "\n",
      "# Beep when finished\n",
      "import ipybell\n",
      "\n",
      "import time\n",
      "\n",
      "wdir = '/Users/andrew/Documents/data/MNIST'    \n",
      "\n",
      "\n",
      "def notify():\n",
      "    %bell -n osx time.sleep(0.5)\n",
      "    %bell -n osx time.sleep(0.5)\n",
      "    %bell -n osx time.sleep(0.5)\n",
      "    %bell -n osx time.sleep(1)\n",
      "    %bell -n osx time.sleep(0.5)\n",
      "    %bell -n osx time.sleep(0.5)\n",
      "\n",
      "def nudge_dataset(X, Y):\n",
      "    \"\"\"\n",
      "    This produces a dataset 9 times bigger than the original one,\n",
      "    by moving the 8x8 images in X around by 1px to left, right, down, up, \n",
      "    up + left, up + right, down + left, down + right.\n",
      "    \"\"\"\n",
      "    direction_vectors = [\n",
      "        [[0, 1, 0],\n",
      "         [0, 0, 0],\n",
      "         [0, 0, 0]],\n",
      "\n",
      "        [[0, 0, 0],\n",
      "         [1, 0, 0],\n",
      "         [0, 0, 0]],\n",
      "\n",
      "        [[0, 0, 0],\n",
      "         [0, 0, 1],\n",
      "         [0, 0, 0]],\n",
      "\n",
      "        [[0, 0, 0],\n",
      "         [0, 0, 0],\n",
      "         [0, 1, 0]]]\n",
      "    shift = lambda x, w: convolve(x.reshape((28, 28)), mode='constant',weights=w).ravel()\n",
      "    X = np.concatenate([X] + [np.apply_along_axis(shift, 1, X, vector) for vector in direction_vectors])\n",
      "    Y = np.concatenate([Y for _ in range(5)], axis=0)\n",
      "    return X, Y\n",
      "\n",
      "def SVCoptimize(X, Y, C, kernel, degree, gamma, test_frac):\n",
      "    print 'Splitting training set into training and test sets'\n",
      "    X_train, X_test, y_train, y_test = train_test_split( X, Y, test_size=test_frac, random_state=42)\n",
      "    print 'Finding optimal parameters for SVC using GridSearchCV'\n",
      "    clf = SVC()\n",
      "    parameters = {'C':C,'degree':degree,'kernel':kernel,'gamma':gamma}\n",
      "    estimator = GridSearchCV(clf, parameters, verbose=1, scoring='accuracy', n_jobs=2)\n",
      "    estimator.fit(X_train[:100000], y_train[:100000])\n",
      "    # Best fit parameters\n",
      "    C = estimator.best_estimator_.C\n",
      "    kernel = estimator.best_estimator_.kernel\n",
      "    degree = estimator.best_estimator_.degree\n",
      "    gamma = estimator.best_estimator_.gamma\n",
      "    # Print results\n",
      "    print '\\n\\n Best Estimators'\n",
      "    print '-----------------'\n",
      "    print '           C = ' + str(C)\n",
      "    print '      kernel = ' + str(kernel)\n",
      "    print '      degree = ' + str(degree)\n",
      "    print '       gamma = ' + str(gamma)\n",
      "    print '-----------------'\n",
      "    print '  best score = ' + str(estimator.best_score_)\n",
      "    print '\\n \\n'\n",
      "    predictions = estimator.predict(X_test)\n",
      "    print classification_report(y_test, predictions)\n",
      "    print 'Completed SVC optimization'\n",
      "    \n",
      "    return C, kernel, degree, gamma\n",
      "    \n",
      "    \n",
      "def Predict2(X, Y, X_test, pca_components, C, kernel, degree, gamma):\n",
      "\n",
      "    print \"Converting training set to matrix\"\n",
      "    X_train = np.mat(X)\n",
      "    print \"Fitting SVC with training set and parameters C='{0}', kernel ='{1}'\".format(int(C), kernel)\n",
      "    clf = SVC(C = C, kernel = kernel, degree = degree, gamma = gamma)\n",
      "    print clf.fit(X_train_reduced, Y)\n",
      "    print \"Reducing test set to '{0}' components\".format(int(pca_components))\n",
      "    X_test_reduced = pca.transform(X_test)\n",
      "    print \"Predicting numbers\"\n",
      "    predictions = clf.predict(X_test_reduced)\n",
      "    print \"Writing to file\"\n",
      "    idheader = np.arange(1,len(predictions)+1,1)\n",
      "    np.savetxt(wdir + \"/predicted_9x.csv\", zip(idheader,predictions), header = 'ImageId,Label', \n",
      "               comments = '', fmt = '%i', delimiter=\",\")\n",
      "\n",
      "    return predictions\n",
      "\n",
      "def Predict(X, Y, X_test, C, Kernel, degree, gamma)\n",
      "\n",
      "    # Models we will use\n",
      "    logistic = linear_model.LogisticRegression()\n",
      "    rbm = BernoulliRBM(random_state=0, verbose=True)\n",
      "\n",
      "    classifier = Pipeline(steps=[('rbm', rbm), ('logistic', logistic)])\n",
      "\n",
      "###############################################################################\n",
      "# Training\n",
      "\n",
      "# Hyper-parameters. These were set by cross-validation,\n",
      "# using a GridSearchCV. Here we are not performing cross-validation to\n",
      "# save time.\n",
      "rbm.learning_rate = 0.06\n",
      "rbm.n_iter = 20\n",
      "# More components tend to give better prediction performance, but larger\n",
      "# fitting time\n",
      "rbm.n_components = 100\n",
      "logistic.C = 6000.0\n",
      "\n",
      "# Training RBM-Logistic Pipeline\n",
      "classifier.fit(X_train, Y_train)\n",
      "\n",
      "# Training Logistic regression\n",
      "logistic_classifier = linear_model.LogisticRegression(C=100.0)\n",
      "logistic_classifier.fit(X_train, Y_train)\n",
      "\n",
      "###############################################################################\n",
      "# Evaluation\n",
      "\n",
      "print()\n",
      "print(\"Logistic regression using RBM features:\\n%s\\n\" % (\n",
      "    metrics.classification_report(\n",
      "        Y_test,\n",
      "        classifier.predict(X_test))))\n",
      "\n",
      "print(\"Logistic regression using raw pixel features:\\n%s\\n\" % (\n",
      "    metrics.classification_report(\n",
      "        Y_test,\n",
      "        logistic_classifier.predict(X_test))))\n",
      "\n",
      "###############################################################################\n",
      "# Plotting\n",
      "\n",
      "plt.figure(figsize=(4.2, 4))\n",
      "for i, comp in enumerate(rbm.components_):\n",
      "    plt.subplot(10, 10, i + 1)\n",
      "    plt.imshow(comp.reshape((28, 28)), cmap=plt.cm.gray_r,\n",
      "               interpolation='nearest')\n",
      "    plt.xticks(())\n",
      "    plt.yticks(())\n",
      "plt.suptitle('100 components extracted by RBM', fontsize=16)\n",
      "plt.subplots_adjust(0.08, 0.02, 0.92, 0.85, 0.08, 0.23)\n",
      "\n",
      "plt.show()\n",
      "notify()"
     ],
     "language": "python",
     "metadata": {},
     "outputs": [],
     "prompt_number": 1
    },
    {
     "cell_type": "code",
     "collapsed": false,
     "input": [
      "'''\n",
      "!!! Skip this step !!! Only run the first time through !!!\n",
      "\n",
      "'''\n",
      "\n",
      "# Load data and save header\n",
      "train_csv = pd.read_csv(wdir + '/train.csv')\n",
      "test_csv = pd.read_csv(wdir + '/test.csv')\n",
      "hdr = list(train_csv)\n",
      "\n",
      "# Convert from DataFrames to Numpy matrices\n",
      "y_train = train_csv['label'].values\n",
      "X_train = train_csv.loc[:,'pixel0':].values\n",
      "X_test = test_csv.loc[:,'pixel0':].values\n",
      "\n",
      "# Increase training set by 5 fold\n",
      "X_train, y_train = nudge_dataset(X_train, y_train)\n",
      "print 'Nudging complete'\n",
      "#X_train, y_train = rotate_dataset(X_train, y_train)\n",
      "#print 'Rotating complete'\n",
      "\n",
      "# Repack 9x folded data into array\n",
      "y_train = y_train.reshape((210000,1))\n",
      "train_5x = np.concatenate((y_train, X_train),axis=1)\n",
      "print 'Finished repacking 5x folded data'\n",
      "\n",
      "# Save Nudged and Rotated array to file\n",
      "print \"Writing to file\"\n",
      "df = pd.DataFrame(data=train_5x, columns = hdr, index = np.arange(1,len(train_5x)+1,1))\n",
      "df.to_csv(wdir + \"/train_5x.csv\", index=False)\n",
      "print 'Complete'\n",
      "notify()"
     ],
     "language": "python",
     "metadata": {},
     "outputs": [
      {
       "output_type": "stream",
       "stream": "stdout",
       "text": [
        "Nudging complete\n",
        "Finished repacking 5x folded data"
       ]
      },
      {
       "output_type": "stream",
       "stream": "stdout",
       "text": [
        "\n",
        "Writing to file\n",
        "Complete"
       ]
      },
      {
       "output_type": "stream",
       "stream": "stdout",
       "text": [
        "\n"
       ]
      }
     ],
     "prompt_number": 4
    },
    {
     "cell_type": "code",
     "collapsed": false,
     "input": [
      "# Optimize SVC parameters\n",
      "train_reduced_csv = pd.read_csv(wdir + '/train_9x.csv')\n",
      "X_train_reduced = train_reduced_csv.loc[:,'pixel0':].values\n",
      "X_train_reduced = scale(np.float64(X_train_reduced))\n",
      "y_train = train_reduced_csv['label'].values\n",
      "print X_train_reduced.shape\n",
      "print np.mean(X_train_reduced)\n",
      "print np.std(X_train_reduced)\n",
      "C = np.logspace(1, 4, 4) #np.logspace(-10, 6, 10)\n",
      "kernel=['rbf'] #['linear', 'poly', 'rbf', 'sigmoid']\n",
      "degree = [2] #np.arange(1,6,1)\n",
      "gamma = np.logspace(-6, -3, 4) #np.logspace(-6, -3, 10)\n",
      "C_opt, kernel_opt, degree_opt, gamma_opt = SVCoptimize(X_train_reduced, y_train, C, kernel, degree, gamma, 0.10)\n",
      "\n",
      "notify()"
     ],
     "language": "python",
     "metadata": {},
     "outputs": []
    },
    {
     "cell_type": "code",
     "collapsed": false,
     "input": [
      "train_reduced_csv = pd.read_csv(wdir + '/train_9x.csv')\n",
      "X_train_reduced = train_reduced_csv.loc[:,'pixel0':].values\n",
      "#X_train_reduced = scale(np.float64(X_train_reduced))\n",
      "#y_train = train_reduced_csv['label'].valuesprint X_train_reduced.shape\n",
      "print np.min(X_train_reduced)\n",
      "print np.max(X_train_reduced)\n",
      "print np.mean(X_train_reduced)\n",
      "print np.median(X_train_reduced)\n",
      "print np.std(X_train_reduced)\n",
      "X_train_reduced = scale(np.float64(X_train_reduced), with_mean=True, with_std=True)\n",
      "print np.min(X_train_reduced)\n",
      "print np.max(X_train_reduced)\n",
      "print np.mean(X_train_reduced)\n",
      "print np.median(X_train_reduced)\n",
      "print np.std(X_train_reduced)"
     ],
     "language": "python",
     "metadata": {},
     "outputs": [
      {
       "output_type": "stream",
       "stream": "stdout",
       "text": [
        "0\n",
        "510"
       ]
      },
      {
       "output_type": "stream",
       "stream": "stdout",
       "text": [
        "\n",
        "48.2551718699"
       ]
      },
      {
       "output_type": "stream",
       "stream": "stdout",
       "text": [
        "\n",
        "0.0"
       ]
      },
      {
       "output_type": "stream",
       "stream": "stdout",
       "text": [
        "\n",
        "113.973319413"
       ]
      },
      {
       "output_type": "stream",
       "stream": "stdout",
       "text": [
        "\n",
        "-1.15678354564"
       ]
      },
      {
       "output_type": "stream",
       "stream": "stdout",
       "text": [
        "\n",
        "364.417080339"
       ]
      },
      {
       "output_type": "stream",
       "stream": "stdout",
       "text": [
        "\n",
        "1.95573383784e-13"
       ]
      },
      {
       "output_type": "stream",
       "stream": "stdout",
       "text": [
        "\n",
        "-0.083811554589"
       ]
      },
      {
       "output_type": "stream",
       "stream": "stdout",
       "text": [
        "\n",
        "0.981980506094"
       ]
      },
      {
       "output_type": "stream",
       "stream": "stdout",
       "text": [
        "\n"
       ]
      }
     ],
     "prompt_number": 19
    },
    {
     "cell_type": "code",
     "collapsed": false,
     "input": [
      "print X_train_reduced.shape"
     ],
     "language": "python",
     "metadata": {},
     "outputs": [
      {
       "output_type": "stream",
       "stream": "stdout",
       "text": [
        "(378000, 784)\n"
       ]
      }
     ],
     "prompt_number": 18
    },
    {
     "cell_type": "code",
     "collapsed": false,
     "input": [
      "# Optimize SVC parameters\n",
      "#parameters = {'kernel':['rbf','linear'],'C':[1,10,100,1000],'degree':np.arange(1,6,1),'gamma':np.logspace(-10, 6, 10)}\n",
      "train_reduced_csv = pd.read_csv(wdir + '/train_9x_reduced.csv')\n",
      "X_train_reduced = train__reduced_csv.loc[:,'pixel0':].values\n",
      "\n",
      "\n",
      "C = np.logspace(-10, 6, 10)\n",
      "kernel=['rbf', 'linear','poly','sigmoid'] #['linear', 'poly', 'rbf', 'sigmoid']\n",
      "degree = np.arange(1,6,1)\n",
      "gamma = np.logspace(-10, 6, 10)\n",
      "C_opt, kernel_opt, degree_opt, gamma_opt = SVCoptimize(X_train_reduced, y_train, n_comp_opt, C, kernel, degree, gamma, 0.20)\n",
      "notify()"
     ],
     "language": "python",
     "metadata": {},
     "outputs": [
      {
       "output_type": "stream",
       "stream": "stdout",
       "text": [
        "Finding optimal parameters for SVC using GridSearchCV\n"
       ]
      },
      {
       "output_type": "stream",
       "stream": "stdout",
       "text": [
        "\n",
        "\n",
        "Best Estimators\n",
        "\n",
        "-----------------\n",
        "           C = 1e-05\n",
        "      kernel = poly\n",
        "      degree = 2\n",
        "       gamma = 0.001\n",
        "-----------------\n",
        " GridSearchCV score = 0.8625\n",
        " SVC training set scores \n",
        "\n",
        "0.86803552492"
       ]
      },
      {
       "output_type": "stream",
       "stream": "stdout",
       "text": [
        "\n",
        "\n",
        " \n",
        "\n"
       ]
      }
     ],
     "prompt_number": 7
    },
    {
     "cell_type": "code",
     "collapsed": false,
     "input": [
      "# Predict best model and output answers for test set\n",
      "print Predict(X_train, y_train, X_test, n_comp_opt, C_opt, kernel_opt, degree_opt, gamma_opt)"
     ],
     "language": "python",
     "metadata": {},
     "outputs": []
    },
    {
     "cell_type": "code",
     "collapsed": false,
     "input": [
      "np.logspace(1,4, 4)"
     ],
     "language": "python",
     "metadata": {},
     "outputs": [
      {
       "metadata": {},
       "output_type": "pyout",
       "prompt_number": 23,
       "text": [
        "array([    10.,    100.,   1000.,  10000.])"
       ]
      }
     ],
     "prompt_number": 23
    },
    {
     "cell_type": "code",
     "collapsed": false,
     "input": [
      "X_train = pd.read_csv(wdir + '/train_9x.csv', header=0)\n",
      "\n",
      "print X_train.shape \n",
      "# Digit inspector\n",
      "f, (ax1, ax2, ax3, ax4) = plt.subplots(ncols=4)\n",
      "\n",
      "imsize = (28, 28)\n",
      "ax1.matshow(np.reshape(X_train.ix[3,1:], imsize), cmap='gray_r')\n",
      "#ax2.matshow(np.reshape(X_train.ix[42003,1:], imsize), cmap='gray_r')\n",
      "#ax3.matshow(np.reshape(X_train.ix[84003,1:], imsize), cmap='gray_r')\n",
      "#ax4.matshow(np.reshape(X_train.ix[126003,1:], imsize), cmap='gray_r')\n",
      "#ax5.matshow(np.reshape(X_train.ix[168003,1:], imsize), cmap='gray_r')\n",
      "ax2.matshow(np.reshape(X_train.ix[210003,1:], imsize), cmap='gray_r')\n",
      "ax3.matshow(np.reshape(X_train.ix[252003,1:], imsize), cmap='gray_r')\n",
      "ax4.matshow(np.reshape(X_train.ix[294003,1:], imsize), cmap='gray_r')\n",
      "#ax5.matshow(np.reshape(X_train.ix[336003,1:], imsize), cmap='gray_r')\n",
      "\n",
      "\n",
      "f.tight_layout();\n",
      "\n",
      "notify()"
     ],
     "language": "python",
     "metadata": {},
     "outputs": [
      {
       "output_type": "stream",
       "stream": "stdout",
       "text": [
        "(378000, 785)\n"
       ]
      },
      {
       "metadata": {},
       "output_type": "display_data",
       "png": "[encoded data removed]",
       "text": [
        "<matplotlib.figure.Figure at 0x11190cfd0>"
       ]
      }
     ],
     "prompt_number": 50
    },
    {
     "cell_type": "code",
     "collapsed": false,
     "input": [
      "train = pd.read_csv(wdir + '/train.csv')\n",
      "# Array inspector\n",
      "train.ix[1000:1010,200:215]\n",
      "\n",
      "\n",
      "\n",
      "\n",
      "df.to_csv(wdir + \"/train_9x.csv\", index_label='ImageId', index=True)\n",
      "\n",
      "\n",
      "\n",
      "\n",
      "test_idx = np.random.uniform(0, 1, len(X_train_reduced)) <= 0.3\n",
      "    train = X_train_reduced[test_idx==True]\n",
      "    trainlabels = labels[test_idx==True]\n",
      "    test = X_train_reduced[test_idx==False]\n",
      "    testlabels = labels[test_idx==False]\n"
     ],
     "language": "python",
     "metadata": {},
     "outputs": []
    }
   ],
   "metadata": {}
  }
 ]
}