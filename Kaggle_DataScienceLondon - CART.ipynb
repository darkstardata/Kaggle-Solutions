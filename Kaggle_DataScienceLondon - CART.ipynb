{
 "metadata": {
  "name": "",
  "signature": "sha256:af3fc2a604df0ffa6bd3c39adabc60dd1ce08aa295c15eda5eff6d6b1c0cb1d4"
 },
 "nbformat": 3,
 "nbformat_minor": 0,
 "worksheets": [
  {
   "cells": [
    {
     "cell_type": "code",
     "collapsed": false,
     "input": [
      "'''\n",
      "\n",
      "Kaggle Project: https://www.kaggle.com/c/data-science-london-scikit-learn/rules?returnUrl=%2Fc%2Fdata-science-london-scikit-learn%2Fsubmit\n",
      "\n",
      "This is a synthetic data set of 40 features, \n",
      "representing objects from two classes (labeled as 0 or 1). \n",
      "The training set has 1000 samples and the testing set has 9000.\n",
      "\n",
      "'''\n",
      "\n",
      "import numpy as np\n",
      "from numpy import genfromtxt, savetxt\n",
      "\n",
      "# Decision Tree Classifier\n",
      "from sklearn import datasets\n",
      "from sklearn import metrics\n",
      "from sklearn.svm import LinearSVC\n",
      "\n",
      "# Load binary classification training data\n",
      "wdir = '/Users/andrew/Documents/data/DataSciLondon'\n",
      "with open(wdir + '/train.csv', 'rb') as csvfile:\n",
      "     data = genfromtxt(csvfile, delimiter=',')\n",
      "with open(wdir + '/trainLabels.csv', 'rb') as csvfile:\n",
      "     target = genfromtxt(csvfile, delimiter=',')\n",
      "with open(wdir + '/test.csv', 'rb') as csvfile:\n",
      "     test = genfromtxt(csvfile, delimiter=',')\n",
      "        \n",
      "# fit a CART model to the data\n",
      "model = DecisionTreeClassifier()\n",
      "model.fit(data[:900], target[:900])\n",
      "\n",
      "\n",
      "# make predictions\n",
      "expected = target\n",
      "predicted = model.predict(data)\n",
      "\n",
      "# summarize the fit of the model\n",
      "#print '-----------------------'\n",
      "#print ' Classification Report'\n",
      "#print '-----------------------\\n'\n",
      "#print(metrics.classification_report(expected, predicted))\n",
      "#print '\\n\\n------------------'\n",
      "#print ' Confusion Matrix '\n",
      "#print '------------------\\n'\n",
      "#print(metrics.confusion_matrix(expected, predicted))\n",
      "\n",
      "\n",
      "\n",
      "\n",
      "\n",
      "        \n",
      "\n",
      "# Print results\n",
      "print '\\n\\nBest Estimators\\n'\n",
      "print '-----------------'\n",
      "print '      kernel = '\n",
      "print '-----------------'\n",
      "#print ' train score = ' + str(model.best_score_)\n",
      "print '  test score = ' + str(model.score(data[900:], target[900:]))\n",
      "print '\\n done'"
     ],
     "language": "python",
     "metadata": {},
     "outputs": [
      {
       "output_type": "stream",
       "stream": "stdout",
       "text": [
        "\n",
        "\n",
        "Best Estimators\n",
        "\n",
        "-----------------\n",
        "      kernel = \n",
        "-----------------\n",
        "  test score = 0.74\n",
        "\n",
        " done\n"
       ]
      }
     ],
     "prompt_number": 20
    },
    {
     "cell_type": "code",
     "collapsed": false,
     "input": [],
     "language": "python",
     "metadata": {},
     "outputs": []
    }
   ],
   "metadata": {}
  }
 ]
}